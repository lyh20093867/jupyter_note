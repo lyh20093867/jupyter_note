{
 "cells": [
  {
   "cell_type": "code",
   "execution_count": 1,
   "metadata": {},
   "outputs": [],
   "source": [
    "# 模块 在python中，一个.py文件就称为一个模块，提高代码的可维护性\n",
    "# 内置函数 https://docs.python.org/3/library/functions.html\n",
    "# 为了避免模块名冲突，使用按目录来组织模块，目录就是包package\n",
    "# 请注意，每一个包目录下面都会有一个__init__.py的文件，这个文件是必须存在的，否则，Python就把这个目录当成普通目录，而不是一个包。__init__.py可以是空文件，也可以有Python代码，因为__init__.py本身就是一个模块，而它的模块名就是mycompany\n",
    "# 可以有多级目录，组成多级层次的包结构。比如如下的目录结构\n",
    "# 自己创建模块时要注意命名，不能和Python自带的模块名称冲突。例如，系统自带了sys模块，自己的模块就不可命名为sys.py，否则将无法导入系统自带的sys模块\n",
    "# 模块名要遵循Python变量命名规范，不要使用中文、特殊字符 在给模块命名的时候，最好在交互环境下执行import 命令，如果成功说明系统已经存在该模块，就不要用该模块命名了\n",
    "\n",
    "# 下面是第一个模块的测试例子\n",
    "#第1行和第2行是标准注释，第1行注释可以让这个hello.py文件直接在Unix/Linux/Mac上运行，第2行注释表示.py文件本身使用标准UTF-8编码；\n",
    "#第4行是一个字符串，表示模块的文档注释，任何模块代码的第一个字符串都被视为模块的文档注释；\n",
    "#第6行使用__author__变量把作者写进去，这样当你公开源代码后别人就可以瞻仰你的大名；\n",
    "# 当我们在命令行运行一个xx模块文件时，Python解释器把一个特殊变量__name__置为__main__，而如果在其他地方导入该xx模块时，if判断将失败，\n",
    "# 因此，这种if测试可以让一个模块通过命令行运行时执行一些额外的代码，最常见的就是运行测试\n",
    "\n",
    "# 作用域 在一个模块中，我们可能会定义很多函数和变量，但有的函数和变量我们希望给别人使用，有的函数和变量我们希望仅仅在模块内部使用。在Python中，是通过_前缀来实现的\n",
    "# 正常的函数和变量名是公开的（public），可以被直接引用，比如：abc，x123，PI等，\n",
    "# 类似__xxx__这样的变量是特殊变量，可以被直接引用，但是有特殊用途，比如上面的__author__，__name__就是特殊变量，hello模块定义的文档注释也可以用特殊变量__doc__访问，我们自己的变量一般不要用这种变量名\n",
    "# 类似_xxx和__xxx这样的函数或变量就是非公开的（private），不应该被直接引用，比如_abc，__abc等\n",
    "# private函数和变量“不应该”被直接引用，而不是“不能”被直接引用，是因为Python并没有一种方法可以完全限制访问private函数或变量，但是，从编程习惯上不应该引用private函数或变量。\n",
    "\n"
   ]
  },
  {
   "cell_type": "code",
   "execution_count": 2,
   "metadata": {},
   "outputs": [
    {
     "name": "stdout",
     "output_type": "stream",
     "text": [
      "too many args!!\n"
     ]
    }
   ],
   "source": [
    "#!/usr/bin/env python3\n",
    "# -*- coding: utf-8 -*-\n",
    "' a test module '\n",
    "__author__ = 'jack Li'\n",
    "\n",
    "\n",
    "import sys\n",
    "\n",
    "def test():\n",
    "    args = sys.argv\n",
    "    if len(args) == 1:\n",
    "        print('Hello')\n",
    "    elif len(args) ==2:\n",
    "        print('Hello, %s ' % args[1])\n",
    "    else:\n",
    "        print('too many args!!')\n",
    "if __name__ == '__main__':\n",
    "    test()\n"
   ]
  }
 ],
 "metadata": {
  "kernelspec": {
   "display_name": "Python 3",
   "language": "python",
   "name": "python3"
  },
  "language_info": {
   "codemirror_mode": {
    "name": "ipython",
    "version": 3
   },
   "file_extension": ".py",
   "mimetype": "text/x-python",
   "name": "python",
   "nbconvert_exporter": "python",
   "pygments_lexer": "ipython3",
   "version": "3.7.6"
  }
 },
 "nbformat": 4,
 "nbformat_minor": 4
}

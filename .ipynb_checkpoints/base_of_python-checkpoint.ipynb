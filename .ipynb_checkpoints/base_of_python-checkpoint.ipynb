{
 "cells": [
  {
   "cell_type": "code",
   "execution_count": 9,
   "metadata": {},
   "outputs": [
    {
     "name": "stdout",
     "output_type": "stream",
     "text": [
      "hello world!\n",
      "1530\n",
      "1024\n",
      "lisi\n",
      "name: lisi\n"
     ]
    }
   ],
   "source": [
    "# 调用print方法输出hello world\n",
    "print(\"hello world!\")\n",
    "# 直接进行计算\n",
    "print(100+1230+200)\n",
    "# 进行幂运算\n",
    "print(2**10)\n",
    "# print()函数会将传递的参数标准输出\n",
    "# 也可以使用input()函数等待用户输入内容，下面将输入的内容赋值给一个变量name\n",
    "name = input()\n",
    "# 同时，print()函数可以接受多个参数，参数之间使用,进行隔开\n",
    "print(\"name:\",name)"
   ]
  },
  {
   "cell_type": "code",
   "execution_count": 13,
   "metadata": {},
   "outputs": [
    {
     "name": "stdout",
     "output_type": "stream",
     "text": [
      "23\n"
     ]
    }
   ],
   "source": [
    "# 打印一个数的绝对值\n",
    "# a=input()\n",
    "# a=-25\n",
    "a=23\n",
    "if a >= 0:\n",
    "    print(a)\n",
    "else:\n",
    "    print(-a)"
   ]
  },
  {
   "cell_type": "code",
   "execution_count": 22,
   "metadata": {},
   "outputs": [
    {
     "name": "stdout",
     "output_type": "stream",
     "text": [
      "1\n",
      "65280\n",
      "1230000000.0\n",
      "3.2\n",
      "I'm 'OK'.\n",
      "I'm \"OK\".\n",
      "\\t,\\r\\n,\\,\\\\\n",
      "zhangsan\n",
      "shuo\n",
      "sm\n",
      "\n",
      "dfkjs\n",
      "\t\n",
      "\\\n",
      "fdsfj\n",
      "... 第武行 ...\n",
      "... 结束\n",
      "\n",
      "zhangsan\n",
      "shuo\n",
      "sm\n",
      "\n",
      "dfkjs\n",
      "\\t\n",
      "\\\\\n",
      "fdsfj\n",
      "... 第武行 ...\n",
      "... 结束\n",
      "\n"
     ]
    }
   ],
   "source": [
    "# 需要注意的是python中是大小写敏感的，并且必须要每次是4个空格缩进\n",
    "# 数据类型和变量，在python中分为整数、浮点数、字符串、空值、变量、常量、\n",
    "print(1)\n",
    "# 0x表示16进制的数\n",
    "print(0xff00)\n",
    "# 浮点数\n",
    "print(1.23e9)\n",
    "print(3.2)\n",
    "# 字符串\n",
    "print(\"I\\'m \\'OK\\'.\")\n",
    "print('I\\'m \\\"OK\\\".')\n",
    "# r''表示''内部的字符串默认不转义，跟scala中的\"\"\"\"\"\"类似\n",
    "print(r'\\t,\\r\\n,\\,\\\\')"
   ]
  },
  {
   "cell_type": "code",
   "execution_count": null,
   "metadata": {},
   "outputs": [],
   "source": [
    "# \"\"\"\"\"\"可以分为多行书写,并且可以在前面添加r，让\"\"\"\"\"\"中的数据不发生转义，另外\"\"\"\"\"\"也可以换成''''''\n",
    "print(\"\"\"zhangsan\n",
    "shuo\n",
    "sm\n",
    "\n",
    "dfkjs\n",
    "\\t\n",
    "\\\\\n",
    "fdsfj\n",
    "... 第武行 ...\n",
    "... 结束\n",
    "\"\"\")\n",
    "print(r\"\"\"zhangsan\n",
    "shuo\n",
    "sm\n",
    "\n",
    "dfkjs\n",
    "\\t\n",
    "\\\\\n",
    "fdsfj\n",
    "... 第武行 ...\n",
    "... 结束\n",
    "\"\"\")"
   ]
  },
  {
   "cell_type": "code",
   "execution_count": 26,
   "metadata": {},
   "outputs": [
    {
     "name": "stdout",
     "output_type": "stream",
     "text": [
      "True\n",
      "False\n",
      "True\n",
      "False\n",
      "or运算: True\n",
      "not运算: True\n",
      "未成年人...\n"
     ]
    }
   ],
   "source": [
    "# 布尔值，只有为True和False,此处的大小写不能chucuo \n",
    "print(True)\n",
    "print(False)\n",
    "print(3>2)\n",
    "print(4<2)\n",
    "\n",
    "print(\"or运算:\",4 < 3 or 5>3)\n",
    "print(\"not运算:\",not 4<3)\n",
    "\n",
    "age=17\n",
    "if age>18:\n",
    "    print(\"成年人...\")\n",
    "else:\n",
    "    print(\"未成年人...\")"
   ]
  },
  {
   "cell_type": "code",
   "execution_count": 31,
   "metadata": {},
   "outputs": [
    {
     "name": "stdout",
     "output_type": "stream",
     "text": [
      "ABC\n",
      "ABC\n"
     ]
    }
   ],
   "source": [
    "# 空值 None，跟scala中的Unit或者null有什么区别?\n",
    "# 变量本身类型不固定，为弱类型语言，也称为动态语言，而java为强类型语言\n",
    "# a='ABC'  1、在内存中创建了一个'ABC'的字符串;2、在内存中创建了一个a的变量，指向了'ABC'\n",
    "a= 'ABC'\n",
    "print(a)\n",
    "b=a # 此处是指将b这个变量指向a这个变量指向的'ABC'，b最终是指向的'ABC'而不是a这个变量\n",
    "a='XYZ'\n",
    "print(b)#需要注意的是，此处打印的是'ABC'而不是'XYZ'"
   ]
  },
  {
   "cell_type": "code",
   "execution_count": 37,
   "metadata": {},
   "outputs": [
    {
     "name": "stdout",
     "output_type": "stream",
     "text": [
      "3.3333333333333335\n",
      "5.0\n",
      "-----------------\n",
      "3\n",
      "5\n",
      "1\n",
      "2\n",
      "-----------------\n",
      "1\n",
      "12.231122222222222\n",
      "2.3444444444444444e+44\n"
     ]
    }
   ],
   "source": [
    "# python中有两种除法:/和//,//永远为整数,并且只会舍弃，不会入\n",
    "print(10/3)\n",
    "print(10/2)\n",
    "print(\"-----------------\")\n",
    "print(10//3)\n",
    "print(10//2)\n",
    "print(10//6)\n",
    "print(13//5)\n",
    "print(\"-----------------\")\n",
    "print(10%3)\n",
    "# python中对整数没有大小限制，对浮点数也没有大小限制，但是超出一定范围的浮点数就表示为inf，意为无限大\n",
    "print(12.231122222222222222222222223)\n",
    "print(234444444444444444344444444444433333333333336.3)"
   ]
  },
  {
   "cell_type": "code",
   "execution_count": 8,
   "metadata": {},
   "outputs": [
    {
     "name": "stdout",
     "output_type": "stream",
     "text": [
      "包含中文的字符串str\n",
      "20013\n",
      "中\n",
      "25991\n",
      "文\n",
      "中\n",
      "文\n",
      "ABC\n",
      "b'ABC'\n",
      "66\n",
      "<class 'bytes'>\n"
     ]
    }
   ],
   "source": [
    "# 字符编码问题，ASCII编码、GB2312编码、UTF-8编码、Unicode编码\n",
    "# ASCII是一个字节，Unicode通常是2个字节，一个中文至少两个字节\n",
    "# Unicode编码可以解决所有的编码问题，但是如果是英文的用Unicode就浪费空间，UTF-8是可变长的编码。\n",
    "# UTF-8编码把一个Unicode字符根据不同的数字大小编码成1-6个字节，常用的英文字母被编码成1个字节，汉字通常是3个字节，\n",
    "# 只有很生僻的字符才会被编码成4-6个字节。如果你要传输的文本包含大量英文字符，用UTF-8编码就能节省空间\n",
    "# 在计算机内存中，统一使用Unicode编码，当需要保存到硬盘或者需要传输的时候，就转换为UTF-8编码。\n",
    "# 用记事本编辑的时候，从文件读取的UTF-8字符被转换为Unicode字符到内存里，编辑完成后，保存的时候再把Unicode转换为UTF-8保存到文件\n",
    "# python3中是使用unicode编码的，支持多语言\n",
    "print('包含中文的字符串str')\n",
    "# ord()函数获取字符的整数表示，chr()将编码转成对应的字符\n",
    "print(ord('中'))# 输出的结果为20013\n",
    "print(chr(ord('中')))\n",
    "print(ord('文'))# 25991\n",
    "print(chr(25991))\n",
    "\n",
    "print('\\u4e2d')# 中\n",
    "print('\\u6587') # 文\n",
    "\n",
    "# python中，bytes类型在前面用前缀b表示,bytes的每个字符只占用一个字节\n",
    "print('ABC')\n",
    "print(b'ABC')\n",
    "print(ord('B'))\n",
    "print(type(b'ABC'))"
   ]
  },
  {
   "cell_type": "code",
   "execution_count": 24,
   "metadata": {},
   "outputs": [
    {
     "name": "stdout",
     "output_type": "stream",
     "text": [
      "b'ABC'\n",
      "b'\\xe4\\xbd\\xa0\\xe5\\xa5\\xbd'\n",
      "你好\n",
      "b'\\xe4\\xbd\\xa0\\xe5\\xa5\\xbd'\n",
      "中\n",
      "Hello,zhangsan!\n",
      "hello,zhangsan,your age is 18? your height is 173.500000 ?\n",
      "Hello,zhangsan,your age is 18? your height is 173.500000 ?\n"
     ]
    }
   ],
   "source": [
    "# encode()和decode()进行编解码,通过encode编码后就将字符串变成了bytes类型了,在python中无法显示为ASCII字符的字节，用\\x##表示\n",
    "print('ABC'.encode('ascii'))\n",
    "print('你好'.encode('utf-8'))\n",
    "# 解码\n",
    "print(b'\\xe4\\xbd\\xa0\\xe5\\xa5\\xbd'.decode('utf-8'))\n",
    "print(b'\\xe4\\xbd\\xa0\\xe5\\xa5\\xbd')\n",
    "# print(b'\\xe4'.decode('utf-8')) # 无法解码，会报错\n",
    "# 使用ignore对小部分错误进行忽略\n",
    "# print(b'中') # bytes can only contain ASCII literal characters\n",
    "# print(b'\\xe4\\xb8\\xad\\xff'.decode('utf-8'))\n",
    "print(b'\\xe4\\xb8\\xad\\xff'.decode('utf-8',errors='ignore'))\n",
    "# 在编写代码时，如果包含了中文，一定要使用中文编码，并且在另存为进行保存的时候也一定要使用utf-8进行保存  \n",
    "# #!/usr/bin/env python3\n",
    "# -*- coding: utf-8 -*-\n",
    "\n",
    "\n",
    "# 格式化 在python中使用%的方式进行格式化，也可以使用format()函数进行格式化,里面使用{0} {1}等进行占位\n",
    "# 在字符串内部,%s表示字符串替换，%d表示整数替换,%f表示浮点数，%x表示十六进制数，%?表示占位的意思，如果只有一个占位，括号可以不用写\n",
    "# 如果%是一个普通字符，需要使用%%来进行转义 \n",
    "print('Hello,%s!' % 'zhangsan')\n",
    "print('hello,%s,your age is %d? your height is %f ?' % ('zhangsan',18,173.5))# 默认保留小数点后6位\n",
    "\n",
    "print('Hello,{0},your age is {1}? your height is {2:.6f} ?'.format('zhangsan',18,173.5))"
   ]
  },
  {
   "cell_type": "code",
   "execution_count": 49,
   "metadata": {},
   "outputs": [
    {
     "name": "stdout",
     "output_type": "stream",
     "text": [
      "['zhangsan', 'lisi', 'wangwu', 'zhangsan']\n",
      "['zhangsan', 'lisi', 'wangwu', 'zhangsan']\n",
      "True\n",
      "4\n",
      "---------取值------------\n",
      "zhangsan\n",
      "zhangsan\n",
      "zhangsan\n",
      "倒数第二个数: wangwu\n",
      "-------------插入元素到指定位置----------\n",
      "None\n",
      "['ligang', 'zhangsan', 'lisi', 'wangwu', 'Mike', 'zhangsan']\n",
      "-------------使用pop删除元素,pop()方法会将被弹出的元素作为值返回----------\n",
      "删除最后一个元素，最后一个元素是: zhangsan\n",
      "['ligang', 'zhangsan', 'lisi', 'wangwu', 'Mike']\n",
      "['zhangsan', 'lisi', 'wangwu', 'Mike']\n",
      "--------存入一个复合元素--------------\n",
      "['zhangsan', 'lisi', ['huangxiaoming', 'fanbingbing', 'licheng'], 'wangwu', 'Mike']\n",
      "mingxing中第二个元素为: fanbingbing\n",
      "--------遍历--------------\n",
      "zhangsan\n",
      "lisi\n",
      "['huangxiaoming', 'fanbingbing', 'licheng']\n",
      "wangwu\n",
      "Mike\n"
     ]
    }
   ],
   "source": [
    "# list list中可以允许重复,可以存储不同类型的值，可以存list等复杂类型的元素,并且保留了存入的先后顺序了的\n",
    "name=['zhangsan','lisi','wangwu','zhangsan']\n",
    "print(name)\n",
    "# 创建一个空列表并添加元素,需要注意的是append()方法返回的是None类型的object,append是将元素追加到列表末尾\n",
    "names = []\n",
    "names.append('zhangsan')\n",
    "names.append('lisi')\n",
    "names.append('wangwu')\n",
    "names.append('zhangsan')\n",
    "print(names)\n",
    "print(name == names) # True，在python中==是比较值大小，如果相同则为真\n",
    "# print(name.length()) # 报错\n",
    "print(len(name))\n",
    "print('---------取值------------')\n",
    "# 根据index取值\n",
    "print(name[0])\n",
    "# 取最后一个元素，有如下写法：-1默认是取一个列表的最后一个元素,整数是从前向后取，并且从0开始，负数是从后向前取，并且是从-1开始\n",
    "print(name[-1])\n",
    "print(name[len(name)-1])\n",
    "# 取倒数第二个数\n",
    "print('倒数第二个数:',name[-2])\n",
    "print('-------------插入元素到指定位置----------')\n",
    "print(name.insert(3,'Mike'))\n",
    "name.insert(0,'ligang')\n",
    "print(name)\n",
    "print('-------------使用pop删除元素,pop()方法会将被弹出的元素作为值返回----------')\n",
    "print('删除最后一个元素，最后一个元素是:',name.pop())\n",
    "print(name)\n",
    "name.pop(0)\n",
    "print(name)\n",
    "print('--------存入一个复合元素--------------')\n",
    "\n",
    "mingxing=['huangxiaoming','fanbingbing','licheng']\n",
    "name.insert(2,mingxing)\n",
    "print(name)\n",
    "# 在name中获取mingxing中的第二个元素\n",
    "print('mingxing中第二个元素为:',name[2][1])\n",
    "print('--------遍历--------------')\n",
    "#遍历列表\n",
    "for a in name:\n",
    "    print(a)\n",
    "# for i in 0  len(name):\n",
    "#     print(name[i])\n",
    "\n"
   ]
  },
  {
   "cell_type": "code",
   "execution_count": 53,
   "metadata": {},
   "outputs": [
    {
     "name": "stdout",
     "output_type": "stream",
     "text": [
      "['zhangsan', 'lisi', 'wangwu', 'zhangsan']\n",
      "['lisi', 'wangwu', 'zhangsan', 'zhangsan']\n"
     ]
    }
   ],
   "source": [
    "# 对列表中的元素排序\n",
    "print(names)\n",
    "names.sort()\n",
    "print(names)"
   ]
  },
  {
   "cell_type": "code",
   "execution_count": null,
   "metadata": {},
   "outputs": [],
   "source": []
  },
  {
   "cell_type": "code",
   "execution_count": 51,
   "metadata": {},
   "outputs": [
    {
     "name": "stdout",
     "output_type": "stream",
     "text": [
      "zs的几个元素分别是，第一个:zhangsan,第二个:23,第三个:176.230,四:上海\n",
      "空tuple: ()\n",
      "1元祖 (23,)\n",
      "--------元祖中存入复合元素--------------\n",
      "('1', 'A', ['zs', 'lis'])\n",
      "('1', 'A', ['zs', 'zhangsan'])\n"
     ]
    }
   ],
   "source": [
    "# 元祖 tuple，使用需要被初始化，并且一旦被初始化后就不能修改，是一种有顺序的列表\n",
    "zs=('zhangsan',23,176.23,'上海')\n",
    "print('zs的几个元素分别是，第一个:%s,第二个:%d,第三个:%.3f,四:%s' % (zs[0],zs[1],zs[2],zs[3]))\n",
    "print('空tuple:',())\n",
    "# 需要注意的是，如果只有一个元素的元祖时，一定要在元素后面添加,以跟运算符(1)进行区分\n",
    "print('1元祖',(23,))\n",
    "print('--------元祖中存入复合元素--------------')\n",
    "# 需要注意的是，元祖中的元素不可变是指引用的内存的地址不可变（指向不可变），但是如果元祖中存储的数复合元素比如列表时，是可以修改这个复合元素中的内容的，不过此时复合元素引用的内存地址是没有变化的\n",
    "kebian=('1','A',['zs','lis'])\n",
    "print(kebian)\n",
    "kebian[2][1]='zhangsan'\n",
    "print(kebian)"
   ]
  },
  {
   "cell_type": "code",
   "execution_count": 3,
   "metadata": {},
   "outputs": [
    {
     "name": "stdout",
     "output_type": "stream",
     "text": [
      "older\n",
      "year:40\n",
      "其他\n",
      "older\n",
      "True: 2\n"
     ]
    }
   ],
   "source": [
    "# 条件判断\n",
    "age = 90\n",
    "if age > 80:\n",
    "    print(\"older\")\n",
    "elif age> 18:\n",
    "    print(\"adult\")\n",
    "elif age >= 6:\n",
    "    print(\"teenager\")\n",
    "else:\n",
    "    print(\"baby\")\n",
    "    \n",
    "# 下面的代码，隐含一个知识点：如果前面判断大于2000成立后，就执行之前的分支，不再做后面的分支判断了    \n",
    "# 另外，input函数获取的是一个字符串，需要使用int()转换后才能跟int进行比较\n",
    "a=int(input('year:'))\n",
    "if a > 2000:\n",
    "    print(\"00后\")\n",
    "elif a> 1990:\n",
    "    print(\"90后\")\n",
    "elif a > 1980:\n",
    "    print(\"80后\")\n",
    "else:\n",
    "    print(\"其他\")\n",
    "    \n",
    "\n",
    "# 在python中，if else可以有结果，但是写法跟scala不一致，如下，但是只能接一个分支\n",
    "aa=\"older\" if age > 80 else \"adult\"\n",
    "print(aa)\n",
    "# if判断式简写：下面的x只要是非零数值，非空的字符串，非空的list等就判断为True，否则就为False\n",
    "x=2\n",
    "if x :\n",
    "    print(\"True:\",x)\n",
    "else :\n",
    "    print(\"False:\",x)"
   ]
  },
  {
   "cell_type": "code",
   "execution_count": 7,
   "metadata": {},
   "outputs": [
    {
     "name": "stdout",
     "output_type": "stream",
     "text": [
      "25\n",
      "125\n",
      "过重\n"
     ]
    }
   ],
   "source": [
    "# python中**表示多少次方\n",
    "print(5**2)\n",
    "print(5**3)\n",
    "# 判断体重\n",
    "height=1.75\n",
    "weight = 80.5\n",
    "bmi = weight/(height ** 2)\n",
    "if bmi < 18.5:\n",
    "    print(\"过轻\")\n",
    "elif bmi>=18.5 and bmi < 25:\n",
    "    print('正常')\n",
    "elif bmi>=25 and bmi <28:\n",
    "    print('过重')\n",
    "elif bmi >= 28 and bmi <32:\n",
    "    print('肥胖')\n",
    "else:\n",
    "    print('严重肥胖')"
   ]
  },
  {
   "cell_type": "code",
   "execution_count": 22,
   "metadata": {},
   "outputs": [
    {
     "name": "stdout",
     "output_type": "stream",
     "text": [
      "zs\n",
      "ls\n",
      "ww\n",
      "55\n",
      "two: 55\n",
      "three 5050\n",
      "5050\n",
      "1\n",
      "2\n",
      "3\n",
      "4\n",
      "5\n",
      "6\n",
      "7\n",
      "8\n",
      "9\n",
      "10\n",
      "END\n"
     ]
    }
   ],
   "source": [
    "# 循环\n",
    "names= ['zs','ls','ww']\n",
    "for name in names:\n",
    "    print(name)\n",
    "# 从1+到100的结果,需要注意的是，range是前闭后开range(0,2)只有0,1两个元素\n",
    "sum = 0\n",
    "for i in range(1,11):\n",
    "    sum = sum + i\n",
    "print(sum)\n",
    "sum=0\n",
    "for i in [1,2,3,4,5,6,7,8,9,10]:\n",
    "    sum = sum + i\n",
    "print(\"two:\",sum)  \n",
    "# range()函数用于生成一个整数序列，list()函数将整数序列转换成列表\n",
    "sum = 0\n",
    "for i in list(range(101)):\n",
    "    sum = sum +i\n",
    "print('three',sum)   \n",
    "\n",
    "# while 循环\n",
    "sum = 0\n",
    "n = 100\n",
    "while n > 0:\n",
    "    sum = sum +n\n",
    "    n = n -1\n",
    "print(sum) \n",
    "\n",
    "# 在循环中，可以使用break语句提前退出循环\n",
    "n = 1\n",
    "while n <100:\n",
    "    if n > 10:\n",
    "        break # 当n>10的时候直接退出循环\n",
    "    print(n)\n",
    "    n = n +1\n",
    "print('END')    \n",
    "# 在循环中使用continue语句跳过当前的循环，直接进入下一次循环\n"
   ]
  },
  {
   "cell_type": "code",
   "execution_count": 54,
   "metadata": {},
   "outputs": [
    {
     "name": "stdout",
     "output_type": "stream",
     "text": [
      "95\n",
      "3\n",
      "45\n",
      "4\n",
      "54\n",
      "a is not in d\n",
      "a is not in d\n",
      "43\n",
      "54\n",
      "删除A元素，并且把A的值返回： 54\n",
      "获取删除后的元素，没有获取了默认值： 33\n",
      "5\n",
      "{'5', 2, 3, '2', '3'}\n",
      "0\n",
      "{'3', 3, 'zangsna', (1, 24, 3)}\n",
      "None\n",
      "{'3', 3, (1, 24, 3)}\n",
      "<class 'set'>\n",
      "{'5', 2, 3, '2', '3', (1, 24, 3)}\n"
     ]
    }
   ],
   "source": [
    "# 使用dict和set \n",
    "# python内置了字段，也就是map，k-v存储\n",
    "# lsit列表\n",
    "names = ['mick','licky','tracy']\n",
    "scores = [95,75,85]\n",
    "# dict,map\n",
    "d = {'mick':95,'Bob':75,'Tracy':85}\n",
    "# 获取字典中的值\n",
    "print(d['mick'])\n",
    "print(len(d))\n",
    "# 向字段中添加元素，多次对一个key放入value，后面的值会被前面的值冲掉\n",
    "d['A'] = 45\n",
    "print(d['A'])\n",
    "d['A'] = 54\n",
    "print(len(d))\n",
    "print(d['A'])\n",
    "# 如果key不存在，dict就会报错\n",
    "if a in d:\n",
    "    print(d['a'])\n",
    "else:\n",
    "    print(\"a is not in d\")\n",
    "# d['a'] = 23    \n",
    "if d.get('a'):\n",
    "    print(d['a'])\n",
    "else:\n",
    "    print('a is not in d')\n",
    "# 也可以通过get()方法指定默认值\n",
    "print(d.get('a',43))\n",
    "# 使用pop(key)删除字典中的元素，并且把删除的元素返回\n",
    "print(d['A'])\n",
    "print('删除A元素，并且把A的值返回：',d.pop('A'))\n",
    "print('获取删除后的元素，没有获取了默认值：',d.get('A',33))\n",
    "# dict 内部存放的顺序和key放入的顺序没有关系,并且dict的key是不可变的\n",
    "# 因此字符串和整数都可以作为dict的key，但是list是可变的，不能作为dict的key\n",
    "\n",
    "# set,set中存放的元素不能有重复，但是可以有不同类型的元素\n",
    "# 要创建一个set，需要将一个list作为输入集合\n",
    "s = set(['2',2,3,'5','3'])\n",
    "print(len(s))\n",
    "print(s)\n",
    "# 创建一个空set\n",
    "\n",
    "m = set()\n",
    "print(len(m))\n",
    "# 向集合中插入元素\n",
    "m.add('3')\n",
    "m.add(3)\n",
    "m.add('3')\n",
    "m.add(\"zangsna\")\n",
    "m.add((1,24,3))\n",
    "# 在集合中不能存入list,因为set中只能存入不可变对象，而list是可变的，可以插入元祖，因为元祖是不可变的\n",
    "# m.add(['zs','li',23])\n",
    "print(m)\n",
    "# ss = set(['sdf'],[343,'34'])\n",
    "# print(ss)\n",
    "# 集合中通过remove()删除元素,并且没有返回值\n",
    "print(m.remove('zangsna'))\n",
    "print(m)\n",
    "# 对集合求交集\n",
    "joins = s & m\n",
    "print(type(joins))\n",
    "# 对集合求并集\n",
    "unions = s | m \n",
    "print(unions)"
   ]
  },
  {
   "cell_type": "code",
   "execution_count": 63,
   "metadata": {},
   "outputs": [
    {
     "name": "stdout",
     "output_type": "stream",
     "text": [
      "求绝对值： 20\n",
      "求最大值： 54 求最小值： 12\n",
      "对空字符串转bool类型： False 对None转bool类型： False 对0转bool类型： False 对0.0转bool类型： False\n",
      "对'3'串转bool类型： True 对0.3转bool类型： True 对3.0转bool类型： True\n",
      "通过别名aa，调用绝对值函数: 23\n",
      "255转十六进制： 0xff 1000转十六进制： 0x3e8\n",
      "23\n",
      "自定义函数my_abs: None\n"
     ]
    }
   ],
   "source": [
    "# 调用函数，在调用函数的时候，如果传入的参数不对，会报类型错误，typeError 求绝对值abs()\n",
    "print('求绝对值：',abs(-20))\n",
    "# print('求绝对值',abs(-20,0.2))#TypeError: abs() takes exactly one argument (2 given)\n",
    "print('求最大值：',max(23,44,54,12),'求最小值：',min(23,44,54,12))\n",
    "# 数据类型转换 int()转成整数类型,float()转成浮点数类型，str()转成字符串，bool()转成布尔值类型\n",
    "print('对空字符串转bool类型：',bool(''),'对None转bool类型：',bool(None),'对0转bool类型：',bool(0),'对0.0转bool类型：',bool(0.0),)\n",
    "print('对\\'3\\'串转bool类型：',bool('3'),'对0.3转bool类型：',bool(0.3),'对3.0转bool类型：',bool(3.0),)\n",
    "\n",
    "# 对函数取别名\n",
    "aa = abs\n",
    "print('通过别名aa，调用绝对值函数:',aa(-23))\n",
    "# hex()把一个整数转成十六进制数\n",
    "print('255转十六进制：',hex(255),'1000转十六进制：',hex(1000))\n",
    "# 将十六进制转成10进制\n",
    "# print(int('0xff'))\n"
   ]
  },
  {
   "cell_type": "code",
   "execution_count": 3,
   "metadata": {},
   "outputs": [
    {
     "name": "stdout",
     "output_type": "stream",
     "text": [
      "自定义函数my_abs: 23\n"
     ]
    },
    {
     "ename": "TypeError",
     "evalue": "wrong type,input int or float!",
     "output_type": "error",
     "traceback": [
      "\u001b[0;31m---------------------------------------------------------------------------\u001b[0m",
      "\u001b[0;31mTypeError\u001b[0m                                 Traceback (most recent call last)",
      "\u001b[0;32m<ipython-input-3-c756f7123133>\u001b[0m in \u001b[0;36m<module>\u001b[0;34m\u001b[0m\n\u001b[1;32m     19\u001b[0m         \u001b[0;32mreturn\u001b[0m \u001b[0;34m-\u001b[0m\u001b[0mx\u001b[0m\u001b[0;34m\u001b[0m\u001b[0;34m\u001b[0m\u001b[0m\n\u001b[1;32m     20\u001b[0m \u001b[0;34m\u001b[0m\u001b[0m\n\u001b[0;32m---> 21\u001b[0;31m \u001b[0mprint\u001b[0m\u001b[0;34m(\u001b[0m\u001b[0;34m'自定义参数2：'\u001b[0m\u001b[0;34m,\u001b[0m\u001b[0mmy_abs2\u001b[0m\u001b[0;34m(\u001b[0m\u001b[0;34m'-25'\u001b[0m\u001b[0;34m)\u001b[0m\u001b[0;34m)\u001b[0m\u001b[0;34m\u001b[0m\u001b[0;34m\u001b[0m\u001b[0m\n\u001b[0m\u001b[1;32m     22\u001b[0m \u001b[0;34m\u001b[0m\u001b[0m\n\u001b[1;32m     23\u001b[0m \u001b[0;31m# 定义空函数，如果想定义一个什么事也不做的空函数，可以用pass语句\u001b[0m\u001b[0;34m\u001b[0m\u001b[0;34m\u001b[0m\u001b[0;34m\u001b[0m\u001b[0m\n",
      "\u001b[0;32m<ipython-input-3-c756f7123133>\u001b[0m in \u001b[0;36mmy_abs2\u001b[0;34m(x)\u001b[0m\n\u001b[1;32m     13\u001b[0m \u001b[0;32mdef\u001b[0m \u001b[0mmy_abs2\u001b[0m\u001b[0;34m(\u001b[0m\u001b[0mx\u001b[0m\u001b[0;34m)\u001b[0m\u001b[0;34m:\u001b[0m\u001b[0;34m\u001b[0m\u001b[0;34m\u001b[0m\u001b[0m\n\u001b[1;32m     14\u001b[0m     \u001b[0;32mif\u001b[0m \u001b[0;32mnot\u001b[0m \u001b[0misinstance\u001b[0m\u001b[0;34m(\u001b[0m\u001b[0mx\u001b[0m\u001b[0;34m,\u001b[0m\u001b[0;34m(\u001b[0m\u001b[0mint\u001b[0m\u001b[0;34m,\u001b[0m\u001b[0mfloat\u001b[0m\u001b[0;34m)\u001b[0m\u001b[0;34m)\u001b[0m\u001b[0;34m:\u001b[0m\u001b[0;34m\u001b[0m\u001b[0;34m\u001b[0m\u001b[0m\n\u001b[0;32m---> 15\u001b[0;31m         \u001b[0;32mraise\u001b[0m \u001b[0mTypeError\u001b[0m\u001b[0;34m(\u001b[0m\u001b[0;34m'wrong type,input int or float!'\u001b[0m\u001b[0;34m)\u001b[0m\u001b[0;34m\u001b[0m\u001b[0;34m\u001b[0m\u001b[0m\n\u001b[0m\u001b[1;32m     16\u001b[0m     \u001b[0;32mif\u001b[0m \u001b[0mx\u001b[0m\u001b[0;34m>=\u001b[0m \u001b[0;36m0\u001b[0m\u001b[0;34m:\u001b[0m\u001b[0;34m\u001b[0m\u001b[0;34m\u001b[0m\u001b[0m\n\u001b[1;32m     17\u001b[0m         \u001b[0;32mreturn\u001b[0m \u001b[0mx\u001b[0m\u001b[0;34m\u001b[0m\u001b[0;34m\u001b[0m\u001b[0m\n",
      "\u001b[0;31mTypeError\u001b[0m: wrong type,input int or float!"
     ]
    }
   ],
   "source": [
    "# 定义函数，定义一个函数要使用def语句，依次写出函数名、括号、括号中的参数和冒号:，然后，在缩进块中编写函数体，函数的返回值用return语句返回\n",
    "# 如果没有return语句，函数执行完毕后也会返回结果，只是结果为None。return None可以简写为return\n",
    "def my_abs(x):\n",
    "    if x >= 0:\n",
    "        return x\n",
    "    else:\n",
    "        return -x\n",
    "\n",
    "# 调用自己定义的函数\n",
    "print('自定义函数my_abs:',my_abs(23))\n",
    "# print('自定义函数my_abs:',my_abs('-24')) # 会报TypeError\n",
    "# 对参数类型进行检查\n",
    "def my_abs2(x):\n",
    "    if not isinstance(x,(int,float)):\n",
    "        # 此处抛出了一个错误\n",
    "        raise TypeError('wrong type,input int or float!')\n",
    "    if x>= 0:\n",
    "        return x\n",
    "    else:\n",
    "        return -x\n",
    "    \n",
    "# print('自定义参数2：',my_abs2('-25'))\n",
    "\n",
    "# 定义空函数，如果想定义一个什么事也不做的空函数，可以用pass语句\n",
    "# pass可以用来作为占位符，比如现在还没想好怎么写函数的代码，就可以先放一个pass，让代码能运行起来\n",
    "# pass可以放在任何位置\n",
    "def nop():\n",
    "    if age > 18:\n",
    "        pass\n",
    "\n",
    "print(nop())    "
   ]
  },
  {
   "cell_type": "code",
   "execution_count": 15,
   "metadata": {},
   "outputs": [
    {
     "name": "stdout",
     "output_type": "stream",
     "text": [
      "142.42640687119285 142.42640687119285\n",
      "(142.42640687119285, 142.42640687119285)\n",
      "(1.0, 1.0)\n",
      "该函数不是一元二次函数\n",
      "0.5\n",
      "该函数不是一元二次函数\n",
      "函数无解\n",
      "None\n",
      "quadratic(2, 3, 1) (2.25, -3.75)\n",
      "quadratic(2, 3, 1) = (2.25, -3.75)\n",
      "quadratic(1, 3, -4) = (1.5, -4.5)\n",
      "测试失败\n"
     ]
    }
   ],
   "source": [
    "# 函数中返回多个值，python中返回的多个值，是一个tuple，如果是一个tuple，可以将()省略\n",
    "import math\n",
    "def move(x,y,step,angle=0):\n",
    "    nx = x + step * math.cos(angle)\n",
    "    ny = y + step * math.sin(angle)\n",
    "    return nx,ny\n",
    "\n",
    "nx,ny= move(100,100,60,math.pi / 4)\n",
    "print(nx,ny)\n",
    "ne = move(100,100,60,math.pi/4)\n",
    "print(ne)\n"
   ]
  },
  {
   "cell_type": "code",
   "execution_count": 19,
   "metadata": {},
   "outputs": [
    {
     "name": "stdout",
     "output_type": "stream",
     "text": [
      "(1.0, 1.0)\n",
      "quadratic(2, 3, 1): (-0.5, -1.0)\n",
      "quadratic(2, 3, 1) = (-0.5, -1.0)\n",
      "quadratic(1, 3, -4)= (1.0, -4.0)\n",
      "测试成功\n"
     ]
    }
   ],
   "source": [
    "import math\n",
    "# 请定义一个函数quadratic(a, b, c)，接收3个参数，返回一元二次方程 ax^2+bx+c=0 ax \n",
    "# 2+bx+c=0 的两个解\n",
    "def quadratic(a,b,c):\n",
    "    if(a== 0):\n",
    "        print('该函数不是一元二次函数')\n",
    "        if(b==0):\n",
    "            if(c!=0):\n",
    "                print('函数无解')\n",
    "                return\n",
    "            else:\n",
    "                print('函数有无数解')\n",
    "                return\n",
    "        else:\n",
    "            return -c/b\n",
    "     # 判断函数是否有解\n",
    "    m = math.pow(b,2) - 4*a*c\n",
    "    o = math.sqrt(m)/(2*a)\n",
    "    n = -b/(2*a)\n",
    "    if(m<0):\n",
    "        print('函数无解')\n",
    "        return\n",
    "    if(m == 0):\n",
    "        return n,n\n",
    "    if(m>0):\n",
    "        return n +o,n-o\n",
    "# print(math.pow(2,10))\n",
    "print(quadratic(1,-2,1))\n",
    "# print(quadratic(0,-2,1))\n",
    "# print(quadratic(0,0,1))\n",
    "print('quadratic(2, 3, 1):',quadratic(2, 3, 1))\n",
    "# 测试\n",
    "print('quadratic(2, 3, 1) =', quadratic(2, 3, 1))\n",
    "print('quadratic(1, 3, -4)=', quadratic(1, 3, -4))\n",
    "\n",
    "if quadratic(2, 3, 1) != (-0.5, -1.0):\n",
    "    print('测试失败')\n",
    "elif quadratic(1, 3, -4) != (1.0, -4.0):\n",
    "    print('测试失败')\n",
    "else:\n",
    "    print('测试成功')"
   ]
  },
  {
   "cell_type": "code",
   "execution_count": 28,
   "metadata": {},
   "outputs": [
    {
     "name": "stdout",
     "output_type": "stream",
     "text": [
      "计算2的10次方: 1024\n",
      "计算2的2次方： 4\n",
      "['END']\n",
      "['END']\n",
      "['END']\n",
      "4\n",
      "5\n",
      "14\n",
      "55\n",
      "55\n"
     ]
    }
   ],
   "source": [
    "\n",
    "# 函数定义中的默认参数、可变参数、关键参数\n",
    "# 下面的函数power(x)必须要传入一个参数，且只能传递一个参数\n",
    "# def power(x):\n",
    "#     return x * x\n",
    "# print(power(3))\n",
    "\n",
    "# 下面的n为默认参数，默认参数必须要在所有的必选参数的后面；\n",
    "# 如果一个函数中定义了多个默认参数的时候，要用定义的默认参数的顺序调用\n",
    "# 如果不用默认参数的顺序调用，需要显式指定默认参数，如:age=23\n",
    "# 默认参数必须要指向不可变的对象\n",
    "def power(x,n=2):\n",
    "    s = 1\n",
    "    while n>0:\n",
    "        s = s * x\n",
    "        n = n -1\n",
    "    return s    \n",
    "print('计算2的10次方:',power(2,10))\n",
    "print('计算2的2次方：',power(2))\n",
    "\n",
    "\n",
    "# 定义一个传入list的带默认参数的函数\n",
    "# 下面这种定义方式不对，L指向了[]这个可变的对象\n",
    "# def add_end(L=[]):\n",
    "#     L.append('END')\n",
    "#     return L\n",
    "\n",
    "def add_end(L=None):\n",
    "    if L is None:\n",
    "        L = []\n",
    "    L.append('END')\n",
    "    return L\n",
    "\n",
    "\n",
    "print(add_end())\n",
    "print(add_end())\n",
    "print(add_end())\n",
    "\n",
    "# 定义一个带可变参数的函数，在python中，可变参数使用*开头表示，scala中使用变量*表示\n",
    "def calc(*numbers):\n",
    "    sum = 0\n",
    "    for n in numbers:\n",
    "        sum = sum + n*n\n",
    "    return sum\n",
    "print(calc(2))\n",
    "print(calc(1,2))\n",
    "print(calc(1,2,3))\n",
    "nums = [1,2,3,4,5]\n",
    "num=(1,2,3,4,5)\n",
    "# 在python中，可以将list和tuple作为可变参数传递到函数中，在前面添加*即可\n",
    "print(calc(*nums))\n",
    "print(calc(*num))"
   ]
  },
  {
   "cell_type": "code",
   "execution_count": 41,
   "metadata": {},
   "outputs": [
    {
     "name": "stdout",
     "output_type": "stream",
     "text": [
      "name: ls age: 34 other: {'city': 'tianjing'}\n",
      "name: Bob age: 23 other: {'city': 'tianjing', 'gend': '男'}\n",
      "name: ll age: 24 other: {'city': 'tianjing', 'job': 'teacher', 'home': 'shang', 'interests': '足球，篮球'}\n",
      "Bj\n",
      "lsa 23 Bj teacher\n",
      "a = 1 b = 2 c = 3 args = (4,) kw = {'d': 99, 'x': '#'}\n",
      "a = 1 b = 2 c = 3 d = 99 kw = {'x': '#'}\n"
     ]
    }
   ],
   "source": [
    "# 定义关键字参数，\n",
    "#可变参数允许你传入0个或任意个参数，这些可变参数在函数调用时自动组装为一个tuple。\n",
    "#而关键字参数允许你传入0个或任意个含参数名的参数，这些关键字参数在函数内部自动组装为一个dict\n",
    "# *args是可变参数，args接收的是一个tuple；\n",
    "# **kw是关键字参数，kw接收的是一个dict。\n",
    "def person(name,age,**kw):\n",
    "    kw['city']='tianjing' # 此处修改传递进来的城市，此处的修改不会影响函数外面的dict\n",
    "    print('name:',name,'age:',age,'other:',kw)\n",
    "\n",
    "person('ls',34)\n",
    "person('Bob',23,city='BJ',gend='男')\n",
    "extra={'city':'Bj','job':'teacher','home':'shang','interests':'足球，篮球'}\n",
    "person('ll',24,**extra)#此处传入的关键字参数是对外面定义的dict的拷贝，里面的修改不会改变外面的内容\n",
    "print(extra['city'])\n",
    "\n",
    "# 使用命名关键字参数限制名字\n",
    "# 定义命名的关键字参数在没有可变参数的情况下不要忘了写分隔符*，否则定义的将是位置参数。\n",
    "extra2={'city':'Bj','job':'teacher'}\n",
    "def person2(name,age,*,city,job):\n",
    "    print(name,age,city,job)\n",
    "person2('lsa',23,**extra2)\n",
    "# person2('lsa',23,**extra)    # 此处会报错\n",
    "\n",
    "# python中可以是多种参数的组合，但是参数定义的顺序必须是：必选参数、默认参数、可变参数、命名关键字参数和关键字参数。\n",
    "def f2(a, b, c=0, *, d, **kw):\n",
    "    print('a =', a, 'b =', b, 'c =', c, 'd =', d, 'kw =', kw)\n",
    "def f1(a, b, c=0, *args, **kw):\n",
    "    print('a =', a, 'b =', b, 'c =', c, 'args =', args, 'kw =', kw)\n",
    "    \n",
    "args = (1, 2, 3, 4)\n",
    "args2 = (1, 2, 3)\n",
    "kw = {'d': 99, 'x': '#'}\n",
    "f1(*args,**kw)\n",
    "# f2(*args,**kw)# 此处会报错\n",
    "f2(*args2,**kw)"
   ]
  },
  {
   "cell_type": "code",
   "execution_count": 40,
   "metadata": {},
   "outputs": [
    {
     "name": "stdout",
     "output_type": "stream",
     "text": [
      "product(5) = 5\n",
      "product(5, 6) = 30\n",
      "product(5, 6, 7) = 210\n",
      "product(5, 6, 7, 9) = 1890\n",
      "测试成功!\n"
     ]
    }
   ],
   "source": [
    "# 接收一个或多个数并计算乘积\n",
    "def product(*numbers):\n",
    "    res = 1\n",
    "    if len(numbers)<=0:\n",
    "        raise TypeError\n",
    "    for n in numbers:\n",
    "        res = res * n\n",
    "    return res\n",
    "print('product(5) =', product(5))\n",
    "print('product(5, 6) =', product(5, 6))\n",
    "print('product(5, 6, 7) =', product(5, 6, 7))\n",
    "print('product(5, 6, 7, 9) =', product(5, 6, 7, 9))\n",
    "# print(product())\n",
    "if product(5) != 5:\n",
    "    print('测试失败!')\n",
    "elif product(5, 6) != 30:\n",
    "    print('测试失败!')\n",
    "elif product(5, 6, 7) != 210:\n",
    "    print('测试失败!')\n",
    "elif product(5, 6, 7, 9) != 1890:\n",
    "    print('测试失败!')\n",
    "else:\n",
    "    try:\n",
    "        product()\n",
    "        print('测试失败!')\n",
    "    except TypeError:\n",
    "        print('测试成功!')"
   ]
  },
  {
   "cell_type": "code",
   "execution_count": 48,
   "metadata": {},
   "outputs": [
    {
     "name": "stdout",
     "output_type": "stream",
     "text": [
      "120\n",
      "120\n"
     ]
    }
   ],
   "source": [
    "# 递归函数，下面的fact不是尾递归\n",
    "def fact(n):\n",
    "    if n == 1:\n",
    "        return 1\n",
    "    return n * fact(n -1)\n",
    "print(fact(5))\n",
    "# 理论上，所有的递归函数都可以写成循环的方式，但循环的逻辑不如递归清晰。\n",
    "# 解决递归调用栈溢出的方法是通过尾递归优化，事实上尾递归和循环的效果是一样的，\n",
    "# 所以，把循环看成是一种特殊的尾递归函数也是可以的。\n",
    "# 尾递归是指，在函数返回的时候，调用自身本身(只是会修改传入的参数)，并且，return语句不能包含表达式\n",
    "\n",
    "# 将上面的函数修改为尾递归函数\n",
    "\n",
    "def fact2(n):\n",
    "    return fact3(n,1)\n",
    "\n",
    "def fact3(n,product):\n",
    "    if n == 1:\n",
    "        return product\n",
    "    return fact3(n-1,n * product) #\n",
    "print(fact2(5))\n",
    "# 大多数编程语言没有针对尾递归做优化，Python解释器也没有做优化，所以，即使把上面的fact(n)函数改成尾递归方式，也会导致栈溢出\n",
    "\n",
    "# 编写一个汉诺塔移动 \n",
    "# 编写move(n, a, b, c)函数，它接收参数n，表示3个柱子A、B、C中第1个柱子A的盘子数量，然后打印出把所有盘子从A借助B移动到C的方法\n",
    "\n",
    "def move(n,a,b,c):\n",
    "    \n"
   ]
  },
  {
   "cell_type": "code",
   "execution_count": null,
   "metadata": {},
   "outputs": [],
   "source": [
    "# 但是在Python中，代码不是越多越好，而是越少越好。代码不是越复杂越好，而是越简单越好。\n",
    "# python中的高级特性：切片、迭代、列表生成式、生成器、迭代器"
   ]
  },
  {
   "cell_type": "code",
   "execution_count": 71,
   "metadata": {},
   "outputs": [
    {
     "name": "stdout",
     "output_type": "stream",
     "text": [
      "jack\n",
      "['zs', 'ls']\n",
      "['zs', 'ls', 'ww']\n",
      "['zs', 'ls']\n",
      "['zs', 'ls', 'ww']\n",
      "['zs', 'ls', 'ww', 'jack']\n",
      "L的长度: 100 获取最后一个元素: 99 获取最后两个元素： [98, 99]\n",
      "获取L的前10个元素： [0, 1, 2, 3, 4, 5, 6, 7, 8, 9] 获取最后10个元素: [90, 91, 92, 93, 94, 95, 96, 97, 98, 99]\n",
      "获取1前面10个数，每3个取一个数: [0, 3, 6, 9]\n",
      "所有数，每5个取一个： [0, 5, 10, 15, 20, 25, 30, 35, 40, 45, 50, 55, 60, 65, 70, 75, 80, 85, 90, 95]\n",
      "获取所有的数据： [0, 1, 2, 3, 4, 5, 6, 7, 8, 9, 10, 11, 12, 13, 14, 15, 16, 17, 18, 19, 20, 21, 22, 23, 24, 25, 26, 27, 28, 29, 30, 31, 32, 33, 34, 35, 36, 37, 38, 39, 40, 41, 42, 43, 44, 45, 46, 47, 48, 49, 50, 51, 52, 53, 54, 55, 56, 57, 58, 59, 60, 61, 62, 63, 64, 65, 66, 67, 68, 69, 70, 71, 72, 73, 74, 75, 76, 77, 78, 79, 80, 81, 82, 83, 84, 85, 86, 87, 88, 89, 90, 91, 92, 93, 94, 95, 96, 97, 98, 99]\n"
     ]
    }
   ],
   "source": [
    "# 切片 python针对列表等需要取其中的多个元素提供的操作，不需要遍历就可以直接取结果\n",
    "# 对列表进行切片\n",
    "l = ['zs','ls','ww','jack']\n",
    "# 使用倒数切片，-1表示获取最后一个元素，从后向前数第0个元素\n",
    "print(l[-1])\n",
    "# 切片操作中，是前闭后开,不包含最后的一个元素\n",
    "print(l[0:2])\n",
    "print(l[0:-1])\n",
    "print(l[0:-2])\n",
    "print(l[:-1])\n",
    "# 0: 表示取0到最后一个元素，获取所有的元素\n",
    "print(l[0:])\n",
    "L= list(range(100))\n",
    "print('L的长度:',len(L),'获取最后一个元素:',L[-1],'获取最后两个元素：',L[-2:])\n",
    "print('获取L的前10个元素：',L[:10],'获取最后10个元素:',L[-10:])\n",
    "# 切片还可以指定步长\n",
    "print('获取1前面10个数，每3个取一个数:',L[:10:3])\n",
    "print('所有数，每5个取一个：',L[::5])\n",
    "print('获取所有的数据：',L[:])"
   ]
  },
  {
   "cell_type": "code",
   "execution_count": 85,
   "metadata": {},
   "outputs": [
    {
     "ename": "SyntaxError",
     "evalue": "invalid syntax (<ipython-input-85-c38d99807ccd>, line 13)",
     "output_type": "error",
     "traceback": [
      "\u001b[0;36m  File \u001b[0;32m\"<ipython-input-85-c38d99807ccd>\"\u001b[0;36m, line \u001b[0;32m13\u001b[0m\n\u001b[0;31m    print('对字符串切片操作，获取字符串的后1位：'ss[:5])\u001b[0m\n\u001b[0m                                ^\u001b[0m\n\u001b[0;31mSyntaxError\u001b[0m\u001b[0;31m:\u001b[0m invalid syntax\n"
     ]
    }
   ],
   "source": [
    "# 对元祖进行切片\n",
    "t=tuple(range(100))\n",
    "print('获取元祖前两个：',t[:2])\n",
    "print('获取元祖的后两个:',t[-2:])\n",
    "print('获取元祖的前10个，步长3：',t[:10:3])\n",
    "print('获取元祖的所有元素，每隔8取出:',t[::8])\n",
    "print('获取所有元素：',t[:])\n",
    "# 对字符串进行切片，字符串也可以看成list,每个元素就是一个字符\n",
    "s='ABCDEFG'\n",
    "print('对字符串切片操作，获取字符串的前5位：',s[:5])\n",
    "print('对字符串切片操作，获取字符串的后5位：',s[-5:])\n",
    "ss = ' ABCDE '\n",
    "print('对字符串切片操作，获取字符串的后1位：'ss[:5])#  此处会报错\n"
   ]
  },
  {
   "cell_type": "code",
   "execution_count": null,
   "metadata": {},
   "outputs": [],
   "source": [
    "# 利用切片操作，实现一个trim()函数，去除字符串首尾的空格，注意不要调用str的strip()方法\n",
    "def trim(s):\n",
    "    "
   ]
  },
  {
   "cell_type": "code",
   "execution_count": 125,
   "metadata": {},
   "outputs": [
    {
     "name": "stdout",
     "output_type": "stream",
     "text": [
      "key: a ,value: 1\n",
      "key: b ,value: 2\n",
      "key: c ,value: 3\n",
      "key: d ,value: 4\n",
      "value: 1\n",
      "value: 2\n",
      "value: 3\n",
      "value: 4\n",
      "k:a,v:1\n",
      "k:b,v:2\n",
      "k:c,v:3\n",
      "k:d,v:4\n",
      "ABC 是否可迭代？ True\n",
      "124是否可迭代？ False\n",
      "124.0是否可迭代？ False\n",
      "'124'是否可迭代？ True\n",
      "0 A\n",
      "1 c\n",
      "2 B\n",
      "a 1\n",
      "b 2\n",
      "c 3\n",
      "请使用迭代查找一个list中最小和最大值，并返回一个tuple：\n",
      "(2, 89)\n",
      "(None, None)\n",
      "测试成功!\n"
     ]
    }
   ],
   "source": [
    "# 迭代 给定一个list或tuple，我们可以通过for循环来遍历这个list或tuple，这种遍历我们称为迭代（Iteration）\n",
    "# 对dict进行迭代,默认是对key进行迭代\n",
    "d = {'a':1,\"b\":2,\"c\":3,'d':4}\n",
    "for key in d:\n",
    "    print('key:',key,\",value:\",d[key])\n",
    "\n",
    "# 对value进行迭代\n",
    "for v in d.values():\n",
    "    print('value:',v)\n",
    "# 对k和v同时进行迭代\n",
    "for k,v in d.items():\n",
    "    print('k:%s,v:%s' % (k,v))\n",
    "    \n",
    "# 判断一个对象是否是可迭代的对象,需要通过collections模块中的Iterable进行判断\n",
    "# list\\tuple\\字符串是可迭代的，数字不可迭代\n",
    "from collections import Iterable\n",
    "s2 = 'ABC'\n",
    "print(s2,'是否可迭代？',isinstance(s2,Iterable))\n",
    "print('124是否可迭代？',isinstance(124,Iterable))\n",
    "print('124.0是否可迭代？',isinstance(124.0,Iterable))\n",
    "print('\\'124\\'是否可迭代？',isinstance('124',Iterable))\n",
    "# python中可以使用enumerate函数可以将list编程元素索引对\n",
    "for i,value in enumerate(['A','c','B']):\n",
    "    print(i,value)\n",
    "\n",
    "for k,v in [('a',1),('b',2),('c',3)]:\n",
    "    print(k,v)\n",
    "    \n",
    "print('请使用迭代查找一个list中最小和最大值，并返回一个tuple：')\n",
    "def findMinAndMax(L):\n",
    "    if (L is None) or (len(L) <= 0):\n",
    "        return None,None\n",
    "    mi = L[0]\n",
    "    mx = L[0]\n",
    "    for a in L:\n",
    "        if mi >= a:\n",
    "            mi = a\n",
    "        if mx <= a:\n",
    "            mx = a\n",
    "    return mi,mx\n",
    "L = [12,45,3,55,89,12,2]\n",
    "print(findMinAndMax(L))\n",
    "print(findMinAndMax([]))\n",
    "# 测试\n",
    "if findMinAndMax([]) != (None, None):\n",
    "    print('测试失败!')\n",
    "elif findMinAndMax([7]) != (7, 7):\n",
    "    print('测试失败!')\n",
    "elif findMinAndMax([7, 1]) != (1, 7):\n",
    "    print('测试失败!')\n",
    "elif findMinAndMax([7, 1, 3, 9, 5]) != (1, 9):\n",
    "    print('测试失败!')\n",
    "else:\n",
    "    print('测试成功!')"
   ]
  },
  {
   "cell_type": "code",
   "execution_count": 144,
   "metadata": {},
   "outputs": [
    {
     "name": "stdout",
     "output_type": "stream",
     "text": [
      "[0, 1, 2, 3, 4, 5, 6, 7, 8, 9]\n",
      "[1, 2, 3, 4, 5, 6, 7, 8, 9]\n",
      "第一种方法: [1, 4, 9, 16, 25, 36, 49, 64, 81, 100]\n",
      "第二种方法: [1, 4, 9, 16, 25, 36, 49, 64, 81, 100]\n",
      "[4, 16, 36, 64, 100]\n",
      "使用双层for循环生成列表: ['34', '35', '36', '37', '64', '65', '66', '67', '94', '95', '96', '97']\n",
      "['base_of_python.md', 'README.md', '.ipynb_checkpoints', '.git', 'base_of_python.ipynb']\n",
      "['hello', 'world', 'ibm', 'apple']\n",
      "[2, 4, 6, 8, 10, 12]\n",
      "[-1, 2, -3, 4, -5, 6, -7, 8, -9, 10, -11, 12]\n",
      "['hello', 'world', 'apple']\n",
      "测试通过!\n"
     ]
    }
   ],
   "source": [
    "# 列表生成式\n",
    "l = list(range(0,10))\n",
    "print(l)\n",
    "l = list(range(1,10))\n",
    "print(l)\n",
    "# 用两种方式生成：[1x1, 2x2, 3x3, ..., 10x10] 即[1,4,9,16...100]\n",
    "# 方法一：\n",
    "l = []\n",
    "for i in range(1,11):\n",
    "    l.append(i * i)\n",
    "print('第一种方法:',l)\n",
    "# 方法二：\n",
    "l = [x * x for x in range(1,11)]\n",
    "print('第二种方法:',l)\n",
    "# 列表生成式中添加判断，这个跟scala中的守卫类似\n",
    "l = [x * x for x in range(1,11) if x % 2 == 0]\n",
    "print(l)\n",
    "# 使用双层循环,使用x和y两个变量来生成list\n",
    "l = [str(x)+str(y) for x in range(1,11) if x % 3 ==0 for y in range(4,8)]\n",
    "print('使用双层for循环生成列表:',l)\n",
    "\n",
    "# 列出当前目录的的所有目录和文件\n",
    "import os # 导入os模块\n",
    "dirs = [d for d in os.listdir()]\n",
    "print(dirs)\n",
    "# 将L中的所有元素全部转成小写\n",
    "L = ['Hello', 'World', 'IBM', 'Apple']\n",
    "l = [a.lower() for a in L]\n",
    "print(l)\n",
    "\n",
    "# 在一个列表生成式中，for前面的if ... else是表达式，而for后面的if是过滤条件，不能带else\n",
    "#下面的 for后面的i是过滤条件，不能有else\n",
    "l = [x for x in range(1,13) if x % 2 ==0]\n",
    "print(l)\n",
    "# 下面for前面的内容是表达式，必须要能够求出一个结果\n",
    "l = [x if x % 2 ==0 else -x for x in range(1,13)]\n",
    "print(l) # 注意此处的结果\n",
    "\n",
    "L = ['Hello', 'World', 18, 'Apple', None]\n",
    "l = [x.lower() if isinstance(x,str) else x for x in L if x is not None]\n",
    "L2 = [x.lower() for x in L if x is not None and isinstance(x,str)]\n",
    "# 测试:\n",
    "print(L2)\n",
    "if L2 == ['hello', 'world', 'apple']:\n",
    "    print('测试通过!')\n",
    "else:\n",
    "    print('测试失败!')"
   ]
  },
  {
   "cell_type": "code",
   "execution_count": 151,
   "metadata": {},
   "outputs": [
    {
     "name": "stdout",
     "output_type": "stream",
     "text": [
      "使用列表生成式生成列表： [0, 1, 4, 9, 16, 25, 36, 49, 64, 81]\n",
      "<generator object <genexpr> at 0x10a372e50>\n",
      "0\n",
      "True\n",
      "1\n",
      "4\n",
      "9\n",
      "16\n",
      "25\n",
      "36\n",
      "49\n",
      "64\n",
      "81\n",
      "3\n"
     ]
    }
   ],
   "source": [
    "# 生成器 在Python中，这种一边循环一边计算的机制，称为生成器：generator\n",
    "# 方法一：只要把一个列表生成式的[]改成()\n",
    "L = [x * x for x in range(10)]\n",
    "print('使用列表生成式生成列表：',L)\n",
    "# 下面的g是一个generator object 即生成器对象\n",
    "g = (x * x for x in range(10))\n",
    "print(g)\n",
    "print(next(g))\n",
    "# 下面输出True,说明生成器也是可以迭代的\n",
    "print(isinstance(g,Iterable))\n",
    "def iterg(g):\n",
    "    for a in g:\n",
    "        print(a)\n",
    "iterg(g)   \n"
   ]
  },
  {
   "cell_type": "code",
   "execution_count": 159,
   "metadata": {},
   "outputs": [
    {
     "name": "stdout",
     "output_type": "stream",
     "text": [
      "1\n",
      "1\n",
      "2\n",
      "3\n",
      "5\n"
     ]
    }
   ],
   "source": [
    "# 实现斐波拉契数列 1, 1, 2, 3, 5, 8, 13, 21, 34\n",
    "# 下面的函数获取具体某个元素的值\n",
    "def fiblaq(n):\n",
    "    if n <=2 :\n",
    "        return 1\n",
    "    return fiblaq(n-1)+fiblaq(n-2)\n",
    "# print(fiblaq(4))\n",
    "\n",
    "def printfblaq(n):\n",
    "    g = (fiblaq(x) for x in range(1,n+1))\n",
    "    for a in g:\n",
    "        print(a)\n",
    "printfblaq(5)    "
   ]
  },
  {
   "cell_type": "code",
   "execution_count": 165,
   "metadata": {},
   "outputs": [
    {
     "name": "stdout",
     "output_type": "stream",
     "text": [
      "<generator object fib at 0x10a3720d0>\n",
      "1\n",
      "2\n",
      "3\n",
      "5\n",
      "8\n",
      "c当前的迭代结果: 1\n",
      "c当前的迭代结果: 2\n",
      "c当前的迭代结果: 3\n",
      "c当前的迭代结果: 5\n",
      "c当前的迭代结果: 8\n",
      "c当前的迭代结果: 13\n",
      "生成器的返回值为: done\n",
      "step 1\n",
      "step 2\n",
      "step 3\n"
     ]
    },
    {
     "data": {
      "text/plain": [
       "5"
      ]
     },
     "execution_count": 165,
     "metadata": {},
     "output_type": "execute_result"
    }
   ],
   "source": [
    "# 如果一个函数定义中包含yield关键字，那么这个函数就不再是一个普通函数，而是一个generator\n",
    "def fib(max):\n",
    "    n,a,b = 0,1,1\n",
    "    while n < max:\n",
    "        yield b\n",
    "        a,b = b,a+b\n",
    "        n = n +1\n",
    "    return 'done'    \n",
    "a = fib(3)\n",
    "print(a)# 此处a是一个生成器generator\n",
    "for i in fib(5):\n",
    "    print(i)\n",
    "\n",
    "# 用for循环调用generator时，发现拿不到generator的return语句的返回值。如果想要拿到返回值，必须捕获StopIteration错误，返回值包含在StopIteration的value\n",
    "c = fib(6)\n",
    "while True:\n",
    "    try:\n",
    "        x = next(c)\n",
    "        print('c当前的迭代结果:',x)\n",
    "    except StopIteration as e:\n",
    "        print('生成器的返回值为:',e.value)\n",
    "        break\n",
    "\n",
    "\n",
    "# 而变成generator的函数，在每次调用next()的时候执行，遇到yield语句返回，再次执行时从上次返回的yield语句处继续执行\n",
    "def add():\n",
    "    print('step 1')\n",
    "    yield 1\n",
    "    print('step 2')\n",
    "    yield(3)\n",
    "    print('step 3')\n",
    "    yield(5)\n",
    "o = add()\n",
    "next(o)\n",
    "next(o)\n",
    "next(o)\n",
    "# next(o) # 在上一步已经将迭代器迭代完成，在报StopIteration的错误"
   ]
  },
  {
   "cell_type": "code",
   "execution_count": null,
   "metadata": {},
   "outputs": [],
   "source": [
    "# 生成杨辉三角\n"
   ]
  },
  {
   "cell_type": "code",
   "execution_count": 171,
   "metadata": {},
   "outputs": [
    {
     "name": "stdout",
     "output_type": "stream",
     "text": [
      "[]空列表是不是可迭代的？ True\n",
      "[]空列表是不是迭代器？ False\n",
      "{},空的字典是可迭代的吗？ True\n",
      "{}空的字典是迭代器吗？ False\n",
      "g的类型为迭代器 <generator object <genexpr> at 0x10850dd50> 生成器是可迭代的吗？ True 生成器是迭代器吗？ True\n",
      "False\n",
      "True\n",
      "2\n",
      "3\n",
      "4\n",
      "6\n"
     ]
    }
   ],
   "source": [
    "# 迭代器，下面的两类数据类型都可以用for循环进行遍历\n",
    "# 一类是集合数据类型，如list、tuple、dict、set、str等；\n",
    "# 一类是generator，包括生成器和带yield的generator function。\n",
    "# 可以被next()函数调用并不断返回下一个值的对象称为迭代器：Iterator\n",
    "# 可以使用isinstance()判断一个对象是不是迭代器\n",
    "from collections.abc import Iterator\n",
    "print('[]空列表是不是可迭代的？',isinstance([],Iterable))\n",
    "print('[]空列表是不是迭代器？',isinstance([],Iterator))\n",
    "print('{},空的字典是可迭代的吗？',isinstance({},Iterable))\n",
    "print('{}空的字典是迭代器吗？',isinstance({},Iterator))\n",
    "g = (x for x in range(10))\n",
    "print('g的类型为迭代器',g,'生成器是可迭代的吗？',isinstance(g,Iterable),'生成器是迭代器吗？',isinstance(g,Iterator))\n",
    "\n",
    "\n",
    "# Iterator的计算是惰性的，只有在需要返回下一个数据时它才会计算\n",
    "# Itreator可以表示一个无限大的数据流，比如自然数，但是list这种就不可能，list这种数据是确定和可知的\n",
    "# 如果要将一个list转成一个迭代器，可以使用iter()函数\n",
    "l = [2,3,4,6]\n",
    "print(isinstance(l,Iterator))\n",
    "ls = iter(l)\n",
    "print(isinstance(ls,Iterator))\n",
    "for a in ls:\n",
    "    print(a)\n",
    "# 上面的代码等价于使用next()进行迭代\n",
    "while True:\n",
    "    try:\n",
    "        print(next(ls))\n",
    "    except StopIteration as e:\n",
    "        # 遇到错误，说明迭代器中的元素被遍历完成,跳出当前的循环\n",
    "        break\n",
    "# 迭代器只能被迭代一遍，一遍将元素遍历完后，迭代器的指针就指向空了，就不会再输出元素了    "
   ]
  }
 ],
 "metadata": {
  "kernelspec": {
   "display_name": "Python 3",
   "language": "python",
   "name": "python3"
  },
  "language_info": {
   "codemirror_mode": {
    "name": "ipython",
    "version": 3
   },
   "file_extension": ".py",
   "mimetype": "text/x-python",
   "name": "python",
   "nbconvert_exporter": "python",
   "pygments_lexer": "ipython3",
   "version": "3.7.6"
  }
 },
 "nbformat": 4,
 "nbformat_minor": 4
}

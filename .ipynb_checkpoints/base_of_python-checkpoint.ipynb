{
 "cells": [
  {
   "cell_type": "code",
   "execution_count": 9,
   "metadata": {},
   "outputs": [
    {
     "name": "stdout",
     "output_type": "stream",
     "text": [
      "hello world!\n",
      "1530\n",
      "1024\n",
      "lisi\n",
      "name: lisi\n"
     ]
    }
   ],
   "source": [
    "# 调用print方法输出hello world\n",
    "print(\"hello world!\")\n",
    "# 直接进行计算\n",
    "print(100+1230+200)\n",
    "# 进行幂运算\n",
    "print(2**10)\n",
    "# print()函数会将传递的参数标准输出\n",
    "# 也可以使用input()函数等待用户输入内容，下面将输入的内容赋值给一个变量name\n",
    "name = input()\n",
    "# 同时，print()函数可以接受多个参数，参数之间使用,进行隔开\n",
    "print(\"name:\",name)"
   ]
  },
  {
   "cell_type": "code",
   "execution_count": 13,
   "metadata": {},
   "outputs": [
    {
     "name": "stdout",
     "output_type": "stream",
     "text": [
      "23\n"
     ]
    }
   ],
   "source": [
    "# 打印一个数的绝对值\n",
    "# a=input()\n",
    "# a=-25\n",
    "a=23\n",
    "if a >= 0:\n",
    "    print(a)\n",
    "else:\n",
    "    print(-a)"
   ]
  },
  {
   "cell_type": "code",
   "execution_count": 22,
   "metadata": {},
   "outputs": [
    {
     "name": "stdout",
     "output_type": "stream",
     "text": [
      "1\n",
      "65280\n",
      "1230000000.0\n",
      "3.2\n",
      "I'm 'OK'.\n",
      "I'm \"OK\".\n",
      "\\t,\\r\\n,\\,\\\\\n",
      "zhangsan\n",
      "shuo\n",
      "sm\n",
      "\n",
      "dfkjs\n",
      "\t\n",
      "\\\n",
      "fdsfj\n",
      "... 第武行 ...\n",
      "... 结束\n",
      "\n",
      "zhangsan\n",
      "shuo\n",
      "sm\n",
      "\n",
      "dfkjs\n",
      "\\t\n",
      "\\\\\n",
      "fdsfj\n",
      "... 第武行 ...\n",
      "... 结束\n",
      "\n"
     ]
    }
   ],
   "source": [
    "# 需要注意的是python中是大小写敏感的，并且必须要每次是4个空格缩进\n",
    "# 数据类型和变量，在python中分为整数、浮点数、字符串、空值、变量、常量、\n",
    "print(1)\n",
    "# 0x表示16进制的数\n",
    "print(0xff00)\n",
    "# 浮点数\n",
    "print(1.23e9)\n",
    "print(3.2)\n",
    "# 字符串\n",
    "print(\"I\\'m \\'OK\\'.\")\n",
    "print('I\\'m \\\"OK\\\".')\n",
    "# r''表示''内部的字符串默认不转义，跟scala中的\"\"\"\"\"\"类似\n",
    "print(r'\\t,\\r\\n,\\,\\\\')"
   ]
  },
  {
   "cell_type": "code",
   "execution_count": null,
   "metadata": {},
   "outputs": [],
   "source": [
    "# \"\"\"\"\"\"可以分为多行书写,并且可以在前面添加r，让\"\"\"\"\"\"中的数据不发生转义，另外\"\"\"\"\"\"也可以换成''''''\n",
    "print(\"\"\"zhangsan\n",
    "shuo\n",
    "sm\n",
    "\n",
    "dfkjs\n",
    "\\t\n",
    "\\\\\n",
    "fdsfj\n",
    "... 第武行 ...\n",
    "... 结束\n",
    "\"\"\")\n",
    "print(r\"\"\"zhangsan\n",
    "shuo\n",
    "sm\n",
    "\n",
    "dfkjs\n",
    "\\t\n",
    "\\\\\n",
    "fdsfj\n",
    "... 第武行 ...\n",
    "... 结束\n",
    "\"\"\")"
   ]
  },
  {
   "cell_type": "code",
   "execution_count": 26,
   "metadata": {},
   "outputs": [
    {
     "name": "stdout",
     "output_type": "stream",
     "text": [
      "True\n",
      "False\n",
      "True\n",
      "False\n",
      "or运算: True\n",
      "not运算: True\n",
      "未成年人...\n"
     ]
    }
   ],
   "source": [
    "# 布尔值，只有为True和False,此处的大小写不能chucuo \n",
    "print(True)\n",
    "print(False)\n",
    "print(3>2)\n",
    "print(4<2)\n",
    "\n",
    "print(\"or运算:\",4 < 3 or 5>3)\n",
    "print(\"not运算:\",not 4<3)\n",
    "\n",
    "age=17\n",
    "if age>18:\n",
    "    print(\"成年人...\")\n",
    "else:\n",
    "    print(\"未成年人...\")"
   ]
  },
  {
   "cell_type": "code",
   "execution_count": 31,
   "metadata": {},
   "outputs": [
    {
     "name": "stdout",
     "output_type": "stream",
     "text": [
      "ABC\n",
      "ABC\n"
     ]
    }
   ],
   "source": [
    "# 空值 None，跟scala中的Unit或者null有什么区别?\n",
    "# 变量本身类型不固定，为弱类型语言，也称为动态语言，而java为强类型语言\n",
    "# a='ABC'  1、在内存中创建了一个'ABC'的字符串;2、在内存中创建了一个a的变量，指向了'ABC'\n",
    "a= 'ABC'\n",
    "print(a)\n",
    "b=a # 此处是指将b这个变量指向a这个变量指向的'ABC'，b最终是指向的'ABC'而不是a这个变量\n",
    "a='XYZ'\n",
    "print(b)#需要注意的是，此处打印的是'ABC'而不是'XYZ'"
   ]
  },
  {
   "cell_type": "code",
   "execution_count": 37,
   "metadata": {},
   "outputs": [
    {
     "name": "stdout",
     "output_type": "stream",
     "text": [
      "3.3333333333333335\n",
      "5.0\n",
      "-----------------\n",
      "3\n",
      "5\n",
      "1\n",
      "2\n",
      "-----------------\n",
      "1\n",
      "12.231122222222222\n",
      "2.3444444444444444e+44\n"
     ]
    }
   ],
   "source": [
    "# python中有两种除法:/和//,//永远为整数,并且只会舍弃，不会入\n",
    "print(10/3)\n",
    "print(10/2)\n",
    "print(\"-----------------\")\n",
    "print(10//3)\n",
    "print(10//2)\n",
    "print(10//6)\n",
    "print(13//5)\n",
    "print(\"-----------------\")\n",
    "print(10%3)\n",
    "# python中对整数没有大小限制，对浮点数也没有大小限制，但是超出一定范围的浮点数就表示为inf，意为无限大\n",
    "print(12.231122222222222222222222223)\n",
    "print(234444444444444444344444444444433333333333336.3)"
   ]
  },
  {
   "cell_type": "code",
   "execution_count": 8,
   "metadata": {},
   "outputs": [
    {
     "name": "stdout",
     "output_type": "stream",
     "text": [
      "包含中文的字符串str\n",
      "20013\n",
      "中\n",
      "25991\n",
      "文\n",
      "中\n",
      "文\n",
      "ABC\n",
      "b'ABC'\n",
      "66\n",
      "<class 'bytes'>\n"
     ]
    }
   ],
   "source": [
    "# 字符编码问题，ASCII编码、GB2312编码、UTF-8编码、Unicode编码\n",
    "# ASCII是一个字节，Unicode通常是2个字节，一个中文至少两个字节\n",
    "# Unicode编码可以解决所有的编码问题，但是如果是英文的用Unicode就浪费空间，UTF-8是可变长的编码。\n",
    "# UTF-8编码把一个Unicode字符根据不同的数字大小编码成1-6个字节，常用的英文字母被编码成1个字节，汉字通常是3个字节，\n",
    "# 只有很生僻的字符才会被编码成4-6个字节。如果你要传输的文本包含大量英文字符，用UTF-8编码就能节省空间\n",
    "# 在计算机内存中，统一使用Unicode编码，当需要保存到硬盘或者需要传输的时候，就转换为UTF-8编码。\n",
    "# 用记事本编辑的时候，从文件读取的UTF-8字符被转换为Unicode字符到内存里，编辑完成后，保存的时候再把Unicode转换为UTF-8保存到文件\n",
    "# python3中是使用unicode编码的，支持多语言\n",
    "print('包含中文的字符串str')\n",
    "# ord()函数获取字符的整数表示，chr()将编码转成对应的字符\n",
    "print(ord('中'))# 输出的结果为20013\n",
    "print(chr(ord('中')))\n",
    "print(ord('文'))# 25991\n",
    "print(chr(25991))\n",
    "\n",
    "print('\\u4e2d')# 中\n",
    "print('\\u6587') # 文\n",
    "\n",
    "# python中，bytes类型在前面用前缀b表示,bytes的每个字符只占用一个字节\n",
    "print('ABC')\n",
    "print(b'ABC')\n",
    "print(ord('B'))\n",
    "print(type(b'ABC'))"
   ]
  },
  {
   "cell_type": "code",
   "execution_count": 24,
   "metadata": {},
   "outputs": [
    {
     "name": "stdout",
     "output_type": "stream",
     "text": [
      "b'ABC'\n",
      "b'\\xe4\\xbd\\xa0\\xe5\\xa5\\xbd'\n",
      "你好\n",
      "b'\\xe4\\xbd\\xa0\\xe5\\xa5\\xbd'\n",
      "中\n",
      "Hello,zhangsan!\n",
      "hello,zhangsan,your age is 18? your height is 173.500000 ?\n",
      "Hello,zhangsan,your age is 18? your height is 173.500000 ?\n"
     ]
    }
   ],
   "source": [
    "# encode()和decode()进行编解码,通过encode编码后就将字符串变成了bytes类型了,在python中无法显示为ASCII字符的字节，用\\x##表示\n",
    "print('ABC'.encode('ascii'))\n",
    "print('你好'.encode('utf-8'))\n",
    "# 解码\n",
    "print(b'\\xe4\\xbd\\xa0\\xe5\\xa5\\xbd'.decode('utf-8'))\n",
    "print(b'\\xe4\\xbd\\xa0\\xe5\\xa5\\xbd')\n",
    "# print(b'\\xe4'.decode('utf-8')) # 无法解码，会报错\n",
    "# 使用ignore对小部分错误进行忽略\n",
    "# print(b'中') # bytes can only contain ASCII literal characters\n",
    "# print(b'\\xe4\\xb8\\xad\\xff'.decode('utf-8'))\n",
    "print(b'\\xe4\\xb8\\xad\\xff'.decode('utf-8',errors='ignore'))\n",
    "# 在编写代码时，如果包含了中文，一定要使用中文编码，并且在另存为进行保存的时候也一定要使用utf-8进行保存  \n",
    "# #!/usr/bin/env python3\n",
    "# -*- coding: utf-8 -*-\n",
    "\n",
    "\n",
    "# 格式化 在python中使用%的方式进行格式化，也可以使用format()函数进行格式化,里面使用{0} {1}等进行占位\n",
    "# 在字符串内部,%s表示字符串替换，%d表示整数替换,%f表示浮点数，%x表示十六进制数，%?表示占位的意思，如果只有一个占位，括号可以不用写\n",
    "# 如果%是一个普通字符，需要使用%%来进行转义 \n",
    "print('Hello,%s!' % 'zhangsan')\n",
    "print('hello,%s,your age is %d? your height is %f ?' % ('zhangsan',18,173.5))# 默认保留小数点后6位\n",
    "\n",
    "print('Hello,{0},your age is {1}? your height is {2:.6f} ?'.format('zhangsan',18,173.5))"
   ]
  },
  {
   "cell_type": "code",
   "execution_count": 48,
   "metadata": {},
   "outputs": [
    {
     "name": "stdout",
     "output_type": "stream",
     "text": [
      "['zhangsan', 'lisi', 'wangwu', 'zhangsan']\n",
      "['zhangsan', 'lisi', 'wangwu', 'zhangsan']\n",
      "True\n",
      "4\n",
      "---------取值------------\n",
      "zhangsan\n",
      "zhangsan\n",
      "zhangsan\n",
      "倒数第二个数: wangwu\n",
      "-------------插入元素到指定位置----------\n",
      "None\n",
      "['ligang', 'zhangsan', 'lisi', 'wangwu', 'Mike', 'zhangsan']\n",
      "-------------使用pop删除元素,pop()方法会将被弹出的元素作为值返回----------\n",
      "删除最后一个元素，最后一个元素是: zhangsan\n",
      "['ligang', 'zhangsan', 'lisi', 'wangwu', 'Mike']\n",
      "['zhangsan', 'lisi', 'wangwu', 'Mike']\n",
      "--------存入一个复合元素--------------\n",
      "['zhangsan', 'lisi', ['huangxiaoming', 'fanbingbing', 'licheng'], 'wangwu', 'Mike']\n",
      "mingxing中第二个元素为: fanbingbing\n",
      "--------遍历--------------\n",
      "zhangsan\n",
      "lisi\n",
      "['huangxiaoming', 'fanbingbing', 'licheng']\n",
      "wangwu\n",
      "Mike\n"
     ]
    }
   ],
   "source": [
    "# list list中可以允许重复,可以存储不同类型的值，可以存list等复杂类型的元素,并且保留了存入的先后顺序了的\n",
    "name=['zhangsan','lisi','wangwu','zhangsan']\n",
    "print(name)\n",
    "# 创建一个空列表并添加元素,需要注意的是append()方法返回的是None类型的object,append是将元素追加到列表末尾\n",
    "names = []\n",
    "names.append('zhangsan')\n",
    "names.append('lisi')\n",
    "names.append('wangwu')\n",
    "names.append('zhangsan')\n",
    "print(names)\n",
    "print(name == names) # True，在python中==是比较值大小，如果相同则为真\n",
    "# print(name.length()) # 报错\n",
    "print(len(name))\n",
    "print('---------取值------------')\n",
    "# 根据index取值\n",
    "print(name[0])\n",
    "# 取最后一个元素，有如下写法：-1默认是取一个列表的最后一个元素,整数是从前向后取，并且从0开始，负数是从后向前取，并且是从-1开始\n",
    "print(name[-1])\n",
    "print(name[len(name)-1])\n",
    "# 取倒数第二个数\n",
    "print('倒数第二个数:',name[-2])\n",
    "print('-------------插入元素到指定位置----------')\n",
    "print(name.insert(3,'Mike'))\n",
    "name.insert(0,'ligang')\n",
    "print(name)\n",
    "print('-------------使用pop删除元素,pop()方法会将被弹出的元素作为值返回----------')\n",
    "print('删除最后一个元素，最后一个元素是:',name.pop())\n",
    "print(name)\n",
    "name.pop(0)\n",
    "print(name)\n",
    "print('--------存入一个复合元素--------------')\n",
    "\n",
    "mingxing=['huangxiaoming','fanbingbing','licheng']\n",
    "name.insert(2,mingxing)\n",
    "print(name)\n",
    "# 在name中获取mingxing中的第二个元素\n",
    "print('mingxing中第二个元素为:',name[2][1])\n",
    "print('--------遍历--------------')\n",
    "#遍历列表\n",
    "for a in name:\n",
    "    print(a)\n",
    "# for i in 0  len(name):\n",
    "#     print(name[i])\n",
    "    "
   ]
  },
  {
   "cell_type": "code",
   "execution_count": 51,
   "metadata": {},
   "outputs": [
    {
     "name": "stdout",
     "output_type": "stream",
     "text": [
      "zs的几个元素分别是，第一个:zhangsan,第二个:23,第三个:176.230,四:上海\n",
      "空tuple: ()\n",
      "1元祖 (23,)\n",
      "--------元祖中存入复合元素--------------\n",
      "('1', 'A', ['zs', 'lis'])\n",
      "('1', 'A', ['zs', 'zhangsan'])\n"
     ]
    }
   ],
   "source": [
    "# 元祖 tuple，使用需要被初始化，并且一旦被初始化后就不能修改，是一种有顺序的列表\n",
    "zs=('zhangsan',23,176.23,'上海')\n",
    "print('zs的几个元素分别是，第一个:%s,第二个:%d,第三个:%.3f,四:%s' % (zs[0],zs[1],zs[2],zs[3]))\n",
    "print('空tuple:',())\n",
    "# 需要注意的是，如果只有一个元素的元祖时，一定要在元素后面添加,以跟运算符(1)进行区分\n",
    "print('1元祖',(23,))\n",
    "print('--------元祖中存入复合元素--------------')\n",
    "# 需要注意的是，元祖中的元素不可变是指引用的内存的地址不可变（指向不可变），但是如果元祖中存储的数复合元素比如列表时，是可以修改这个复合元素中的内容的，不过此时复合元素引用的内存地址是没有变化的\n",
    "kebian=('1','A',['zs','lis'])\n",
    "print(kebian)\n",
    "kebian[2][1]='zhangsan'\n",
    "print(kebian)"
   ]
  },
  {
   "cell_type": "code",
   "execution_count": 7,
   "metadata": {},
   "outputs": [
    {
     "name": "stdout",
     "output_type": "stream",
     "text": [
      "older\n",
      "year:2010\n",
      "00后\n"
     ]
    }
   ],
   "source": [
    "# 条件判断\n",
    "age = 90\n",
    "if age > 80:\n",
    "    print(\"older\")\n",
    "elif age> 18:\n",
    "    print(\"adult\")\n",
    "elif age >= 6:\n",
    "    print(\"teenager\")\n",
    "else:\n",
    "    print(\"baby\")\n",
    "    \n",
    "    \n",
    "a=int(input('year:'))\n",
    "if a > 2000:\n",
    "    print(\"00后\")\n",
    "elif a> 1990:\n",
    "    print(\"90后\")\n",
    "elif a > 1980:\n",
    "    print(\"80后\")\n",
    "else:\n",
    "    print(\"其他\")"
   ]
  },
  {
   "cell_type": "code",
   "execution_count": null,
   "metadata": {},
   "outputs": [],
   "source": []
  },
  {
   "cell_type": "code",
   "execution_count": null,
   "metadata": {},
   "outputs": [],
   "source": []
  },
  {
   "cell_type": "code",
   "execution_count": null,
   "metadata": {},
   "outputs": [],
   "source": []
  },
  {
   "cell_type": "code",
   "execution_count": null,
   "metadata": {},
   "outputs": [],
   "source": []
  },
  {
   "cell_type": "code",
   "execution_count": null,
   "metadata": {},
   "outputs": [],
   "source": []
  },
  {
   "cell_type": "code",
   "execution_count": null,
   "metadata": {},
   "outputs": [],
   "source": []
  },
  {
   "cell_type": "code",
   "execution_count": null,
   "metadata": {},
   "outputs": [],
   "source": []
  },
  {
   "cell_type": "code",
   "execution_count": null,
   "metadata": {},
   "outputs": [],
   "source": []
  },
  {
   "cell_type": "code",
   "execution_count": null,
   "metadata": {},
   "outputs": [],
   "source": []
  },
  {
   "cell_type": "code",
   "execution_count": null,
   "metadata": {},
   "outputs": [],
   "source": []
  },
  {
   "cell_type": "code",
   "execution_count": null,
   "metadata": {},
   "outputs": [],
   "source": []
  },
  {
   "cell_type": "code",
   "execution_count": null,
   "metadata": {},
   "outputs": [],
   "source": []
  },
  {
   "cell_type": "code",
   "execution_count": null,
   "metadata": {},
   "outputs": [],
   "source": []
  },
  {
   "cell_type": "code",
   "execution_count": null,
   "metadata": {},
   "outputs": [],
   "source": []
  },
  {
   "cell_type": "code",
   "execution_count": null,
   "metadata": {},
   "outputs": [],
   "source": []
  },
  {
   "cell_type": "code",
   "execution_count": null,
   "metadata": {},
   "outputs": [],
   "source": []
  },
  {
   "cell_type": "code",
   "execution_count": null,
   "metadata": {},
   "outputs": [],
   "source": []
  },
  {
   "cell_type": "code",
   "execution_count": null,
   "metadata": {},
   "outputs": [],
   "source": []
  },
  {
   "cell_type": "code",
   "execution_count": null,
   "metadata": {},
   "outputs": [],
   "source": []
  },
  {
   "cell_type": "code",
   "execution_count": null,
   "metadata": {},
   "outputs": [],
   "source": []
  },
  {
   "cell_type": "code",
   "execution_count": null,
   "metadata": {},
   "outputs": [],
   "source": []
  },
  {
   "cell_type": "code",
   "execution_count": null,
   "metadata": {},
   "outputs": [],
   "source": []
  },
  {
   "cell_type": "code",
   "execution_count": null,
   "metadata": {},
   "outputs": [],
   "source": []
  },
  {
   "cell_type": "code",
   "execution_count": null,
   "metadata": {},
   "outputs": [],
   "source": []
  },
  {
   "cell_type": "code",
   "execution_count": null,
   "metadata": {},
   "outputs": [],
   "source": []
  },
  {
   "cell_type": "code",
   "execution_count": null,
   "metadata": {},
   "outputs": [],
   "source": []
  },
  {
   "cell_type": "code",
   "execution_count": null,
   "metadata": {},
   "outputs": [],
   "source": []
  },
  {
   "cell_type": "code",
   "execution_count": null,
   "metadata": {},
   "outputs": [],
   "source": []
  },
  {
   "cell_type": "code",
   "execution_count": null,
   "metadata": {},
   "outputs": [],
   "source": []
  },
  {
   "cell_type": "code",
   "execution_count": null,
   "metadata": {},
   "outputs": [],
   "source": []
  },
  {
   "cell_type": "code",
   "execution_count": null,
   "metadata": {},
   "outputs": [],
   "source": []
  },
  {
   "cell_type": "code",
   "execution_count": null,
   "metadata": {},
   "outputs": [],
   "source": []
  },
  {
   "cell_type": "code",
   "execution_count": null,
   "metadata": {},
   "outputs": [],
   "source": []
  },
  {
   "cell_type": "code",
   "execution_count": null,
   "metadata": {},
   "outputs": [],
   "source": []
  },
  {
   "cell_type": "code",
   "execution_count": null,
   "metadata": {},
   "outputs": [],
   "source": []
  },
  {
   "cell_type": "code",
   "execution_count": null,
   "metadata": {},
   "outputs": [],
   "source": []
  },
  {
   "cell_type": "code",
   "execution_count": null,
   "metadata": {},
   "outputs": [],
   "source": []
  },
  {
   "cell_type": "code",
   "execution_count": null,
   "metadata": {},
   "outputs": [],
   "source": []
  },
  {
   "cell_type": "code",
   "execution_count": null,
   "metadata": {},
   "outputs": [],
   "source": []
  },
  {
   "cell_type": "code",
   "execution_count": null,
   "metadata": {},
   "outputs": [],
   "source": []
  },
  {
   "cell_type": "code",
   "execution_count": null,
   "metadata": {},
   "outputs": [],
   "source": []
  },
  {
   "cell_type": "code",
   "execution_count": null,
   "metadata": {},
   "outputs": [],
   "source": []
  },
  {
   "cell_type": "code",
   "execution_count": null,
   "metadata": {},
   "outputs": [],
   "source": []
  },
  {
   "cell_type": "code",
   "execution_count": null,
   "metadata": {},
   "outputs": [],
   "source": []
  },
  {
   "cell_type": "code",
   "execution_count": null,
   "metadata": {},
   "outputs": [],
   "source": []
  },
  {
   "cell_type": "code",
   "execution_count": null,
   "metadata": {},
   "outputs": [],
   "source": []
  },
  {
   "cell_type": "code",
   "execution_count": null,
   "metadata": {},
   "outputs": [],
   "source": []
  },
  {
   "cell_type": "code",
   "execution_count": null,
   "metadata": {},
   "outputs": [],
   "source": []
  },
  {
   "cell_type": "code",
   "execution_count": null,
   "metadata": {},
   "outputs": [],
   "source": []
  },
  {
   "cell_type": "code",
   "execution_count": null,
   "metadata": {},
   "outputs": [],
   "source": []
  },
  {
   "cell_type": "code",
   "execution_count": null,
   "metadata": {},
   "outputs": [],
   "source": []
  },
  {
   "cell_type": "code",
   "execution_count": null,
   "metadata": {},
   "outputs": [],
   "source": []
  },
  {
   "cell_type": "code",
   "execution_count": null,
   "metadata": {},
   "outputs": [],
   "source": []
  },
  {
   "cell_type": "code",
   "execution_count": null,
   "metadata": {},
   "outputs": [],
   "source": []
  },
  {
   "cell_type": "code",
   "execution_count": null,
   "metadata": {},
   "outputs": [],
   "source": []
  },
  {
   "cell_type": "code",
   "execution_count": null,
   "metadata": {},
   "outputs": [],
   "source": []
  },
  {
   "cell_type": "code",
   "execution_count": null,
   "metadata": {},
   "outputs": [],
   "source": []
  },
  {
   "cell_type": "code",
   "execution_count": null,
   "metadata": {},
   "outputs": [],
   "source": []
  },
  {
   "cell_type": "code",
   "execution_count": null,
   "metadata": {},
   "outputs": [],
   "source": []
  },
  {
   "cell_type": "code",
   "execution_count": null,
   "metadata": {},
   "outputs": [],
   "source": []
  },
  {
   "cell_type": "code",
   "execution_count": null,
   "metadata": {},
   "outputs": [],
   "source": []
  },
  {
   "cell_type": "code",
   "execution_count": null,
   "metadata": {},
   "outputs": [],
   "source": []
  },
  {
   "cell_type": "code",
   "execution_count": null,
   "metadata": {},
   "outputs": [],
   "source": []
  },
  {
   "cell_type": "code",
   "execution_count": null,
   "metadata": {},
   "outputs": [],
   "source": []
  },
  {
   "cell_type": "code",
   "execution_count": null,
   "metadata": {},
   "outputs": [],
   "source": []
  },
  {
   "cell_type": "code",
   "execution_count": null,
   "metadata": {},
   "outputs": [],
   "source": []
  },
  {
   "cell_type": "code",
   "execution_count": null,
   "metadata": {},
   "outputs": [],
   "source": []
  },
  {
   "cell_type": "code",
   "execution_count": null,
   "metadata": {},
   "outputs": [],
   "source": []
  },
  {
   "cell_type": "code",
   "execution_count": null,
   "metadata": {},
   "outputs": [],
   "source": []
  },
  {
   "cell_type": "code",
   "execution_count": null,
   "metadata": {},
   "outputs": [],
   "source": [
    "\n"
   ]
  },
  {
   "cell_type": "code",
   "execution_count": 8,
   "metadata": {},
   "outputs": [
    {
     "name": "stdout",
     "output_type": "stream",
     "text": [
      "lisi\n"
     ]
    }
   ],
   "source": [
    "print(name)"
   ]
  },
  {
   "cell_type": "code",
   "execution_count": null,
   "metadata": {},
   "outputs": [],
   "source": []
  },
  {
   "cell_type": "code",
   "execution_count": null,
   "metadata": {},
   "outputs": [],
   "source": []
  },
  {
   "cell_type": "code",
   "execution_count": null,
   "metadata": {},
   "outputs": [],
   "source": []
  },
  {
   "cell_type": "code",
   "execution_count": null,
   "metadata": {},
   "outputs": [],
   "source": []
  },
  {
   "cell_type": "code",
   "execution_count": null,
   "metadata": {},
   "outputs": [],
   "source": []
  }
 ],
 "metadata": {
  "kernelspec": {
   "display_name": "Python 3",
   "language": "python",
   "name": "python3"
  },
  "language_info": {
   "codemirror_mode": {
    "name": "ipython",
    "version": 3
   },
   "file_extension": ".py",
   "mimetype": "text/x-python",
   "name": "python",
   "nbconvert_exporter": "python",
   "pygments_lexer": "ipython3",
   "version": "3.7.6"
  }
 },
 "nbformat": 4,
 "nbformat_minor": 4
}

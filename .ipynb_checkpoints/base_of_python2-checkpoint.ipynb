{
 "cells": [
  {
   "cell_type": "code",
   "execution_count": 3,
   "metadata": {},
   "outputs": [
    {
     "name": "stdout",
     "output_type": "stream",
     "text": [
      "abs指向求绝对值的函数，结果： 123\n",
      "5\n"
     ]
    }
   ],
   "source": [
    "\n",
    "# 函数是Python内建支持的一种封装，我们通过把大段代码拆成函数，通过一层一层的函数调用，就可以把复杂任务分解成简单的任务，这种分解可以称之为面向过程的程序设计。函数就是面向过程的程序设计的基本单元。\n",
    "# 而函数式编程（请注意多了一个“式”字）——Functional Programming，虽然也可以归结到面向过程的程序设计，但其思想更接近数学计算。\n",
    "# 在计算机的层次上，CPU执行的是加减乘除的指令代码，以及各种条件判断和跳转指令，所以，汇编语言是最贴近计算机的语言。\n",
    "# 而计算则指数学意义上的计算，越是抽象的计算，离计算机硬件越远。\n",
    "# 对应到编程语言，就是越低级的语言，越贴近计算机，抽象程度低，执行效率高，比如C语言；越高级的语言，越贴近计算，抽象程度高，执行效率低，比如Lisp语言。\n",
    "# 函数式编程就是一种抽象程度很高的编程范式，纯粹的函数式编程语言编写的函数没有变量，因此，任意一个函数，只要输入是确定的，输出就是确定的，这种纯函数我们称之为没有副作用。而允许使用变量的程序设计语言，由于函数内部的变量状态不确定，同样的输入，可能得到不同的输出，因此，这种函数是有副作用的。\n",
    "# 函数式编程的一个特点就是，允许把函数本身作为参数传入另一个函数，还允许返回一个函数！\n",
    "# Python对函数式编程提供部分支持。由于Python允许使用变量，因此，Python不是纯函数式编程语言。\n",
    "\n",
    "# 高阶函数，函数本身也是可以赋值给变量的，即变量指向函数\n",
    "# 函数名也是变量，指向函数这个对象的，如果将函数名修改为指向了其他的对象，就会出错\n",
    "import builtins\n",
    "# 例如：\n",
    "print('abs指向求绝对值的函数，结果：',builtins.abs(-123))\n",
    "# 修改abs指向新的对象\n",
    "# abs = 10\n",
    "# print(abs(-23))# 此处会报TypeError: 'int' object is not callable，因为abs这会不再指向执行绝对值这个函数了\n",
    "\n",
    "# 注：由于abs函数实际上是定义在import builtins模块中的，所以要让修改abs变量的指向在其它模块也生效，要用import builtins; builtins.abs = 10\n",
    "\n",
    "# 传入函数,将函数作为一个参数，传递给另外一个函数，这种参数也是一个函数的函数就是高阶函数\n",
    "def add(x,y,f):\n",
    "    return f(x)+ f(y)\n",
    "print(add(2,-3,builtins.abs))"
   ]
  },
  {
   "cell_type": "code",
   "execution_count": 4,
   "metadata": {},
   "outputs": [
    {
     "name": "stdout",
     "output_type": "stream",
     "text": [
      "True\n",
      "True\n",
      "[144, 9, 16, 25, 4, 36, 9]\n",
      "['12', '3', '4', '5', '2', '6', '3']\n"
     ]
    },
    {
     "name": "stderr",
     "output_type": "stream",
     "text": [
      "/Users/yihong.li/opt/anaconda3/lib/python3.7/site-packages/ipykernel_launcher.py:2: DeprecationWarning: Using or importing the ABCs from 'collections' instead of from 'collections.abc' is deprecated since Python 3.3,and in 3.9 it will stop working\n",
      "  \n"
     ]
    }
   ],
   "source": [
    "# map函数，map()函数接收两个参数，一个是函数，一个是Iterable，map将传入的函数依次作用到序列的每个元素，并把结果作为新的Iterator返回\n",
    "from collections import Iterable,Iterator\n",
    "def f(x):\n",
    "    return x * x\n",
    "l=[12,3,4,5,2,6,3]\n",
    "m=map(f,l)\n",
    "print(isinstance(m,Iterable))\n",
    "print(isinstance(m,Iterator))\n",
    "# list会迭代m这个迭代器，迭代器只能被迭代一遍\n",
    "print(list(m))\n",
    "# print(len(m) \n",
    "for n in m:\n",
    "    print(n)\n",
    "\n",
    "ll=[12,3,4,5,2,6,3] \n",
    "# 将ll中的所有元素转换成字符串\n",
    "lm = list(map(str,ll))\n",
    "print(lm)"
   ]
  },
  {
   "cell_type": "code",
   "execution_count": 12,
   "metadata": {},
   "outputs": [
    {
     "name": "stdout",
     "output_type": "stream",
     "text": [
      "3 * 5 * 7 * 9 = 945\n",
      "测试成功!\n",
      "对列表中所有元素求和，使用reduce进行累计计算： 35\n",
      "reduce函数对列表中的所有元素求乘积: 25920\n",
      "12345263\n",
      "True\n",
      "<class 'int'>\n",
      "123\n",
      "ABC\n"
     ]
    }
   ],
   "source": [
    "# reduce函数 reduce的第一个参数是函数，第二个参数是一个序列\n",
    "from functools import reduce\n",
    "# 对一个list作求和运算\n",
    "def myadd(x,y):\n",
    "    return x +y\n",
    "def mymultiply(x,y):\n",
    "    return x * y\n",
    "def prod(ll):\n",
    "    return reduce(mymultiply,ll)\n",
    "\n",
    "print('3 * 5 * 7 * 9 =', prod([3, 5, 7, 9]))\n",
    "if prod([3, 5, 7, 9]) == 945:\n",
    "    print('测试成功!')\n",
    "else:\n",
    "    print('测试失败!')\n",
    "    \n",
    "lll = reduce(myadd,ll)\n",
    "\n",
    "print('对列表中所有元素求和，使用reduce进行累计计算：',lll)\n",
    "llm = reduce(mymultiply,ll)\n",
    "\n",
    "print('reduce函数对列表中的所有元素求乘积:',llm)\n",
    "def myconcat(x,y):\n",
    "    return str(x)+str(y)\n",
    "lln = reduce(myconcat,ll)\n",
    "print(lln)\n",
    "\n",
    "# 自己实现一个将字符串转成int的函数\n",
    "\n",
    "DIGITS = {'0':0,'1':1,'2':2,'3':3,'4':4,'5':5,'6':6,'7':7,'8':8,'9':9}\n",
    "def myint(x):\n",
    "    if isinstance(x,int):\n",
    "        return x\n",
    "    def char2int(x):\n",
    "        return DIGITS[x]\n",
    "    return reduce(lambda x,y:x*10+y,map(char2int,x))\n",
    "a=myint('123')\n",
    "print(isinstance(a,int))\n",
    "print(type(a))\n",
    "print(a)\n",
    "print('abc'.upper())"
   ]
  },
  {
   "cell_type": "code",
   "execution_count": 29,
   "metadata": {},
   "outputs": [
    {
     "name": "stdout",
     "output_type": "stream",
     "text": [
      "['Adam', 'Lisa', 'Bart']\n",
      "6\n",
      "1323.22\n"
     ]
    }
   ],
   "source": [
    "# 将不规则的英文名字变为首字母大写，其他小写的规范名字；输入：['adam', 'LISA', 'barT']，输出：['Adam', 'Lisa', 'Bart']：\n",
    "# 输入一个list\n",
    "from functools import reduce\n",
    "import math\n",
    "def myF(x):\n",
    "    # 第一步获取首字母\n",
    "    f=str(x[0]).upper()\n",
    "    en = str(x[1:]).lower()\n",
    "    # 第二步将首字母转大写，其他的转小写\n",
    "    return f + en\n",
    "def mylist(f):\n",
    "    return list(map(myF,f))\n",
    "li = ['adam', 'LISA', 'barT']\n",
    "print(mylist(li))\n",
    "\n",
    "DIGITS = {'0':0,'1':1,'2':2,'3':3,'4':4,'5':5,'6':6,'7':7,'8':8,'9':9}\n",
    "def char2Int(x):\n",
    "    return DIGITS[x]\n",
    "\n",
    "v = reduce(lambda x,y:x*+y,map(char2Int,'123'))\n",
    "print(v)\n",
    "# 利用map和reduce编写一个str2float函数，把字符串'123.456'转换成浮点数123.456\n",
    "def str2float(s):\n",
    "    \n",
    "    i = str(s).find('.')\n",
    "    b = math.pow(10,len(s)-i-1)\n",
    "    if i == -1:\n",
    "        return myint(s)\n",
    "    else:\n",
    "        m = i +1\n",
    "        a = s[0:i]\n",
    "        c = s[m:]\n",
    "        return myint(a)+myint(c)/b\n",
    "print(str2float('1323.22'))\n"
   ]
  },
  {
   "cell_type": "code",
   "execution_count": 9,
   "metadata": {},
   "outputs": [
    {
     "name": "stdout",
     "output_type": "stream",
     "text": [
      "[3, 5, 9]\n",
      "sd dfs\n",
      "None\n",
      "['A', 'C']\n"
     ]
    }
   ],
   "source": [
    "# filter 函数，接收一个函数和列表，函数需要返回Boolean类型；filter结果返回一个Iterator迭代器\n",
    "# is_odd 判断是否为奇数\n",
    "def is_odd(n):\n",
    "    return n % 2 ==1\n",
    "l = list(filter(is_odd,[2,4,3,5,6,9]))\n",
    "print(l)\n",
    "# \n",
    "def not_empty(s):\n",
    "    return s and s.strip()\n",
    "print(not_empty(\"    sd dfs \"))\n",
    "print(not_empty(None))# 此处不会报错，如果s 为None，就不会执行s.strip()，直接返回s，因为s为False了\n",
    "ll = list(filter(not_empty,['A','','   ',None,'C']))\n",
    "print(ll)\n"
   ]
  },
  {
   "cell_type": "code",
   "execution_count": 31,
   "metadata": {},
   "outputs": [
    {
     "name": "stdout",
     "output_type": "stream",
     "text": [
      "<class 'generator'>\n",
      "False\n",
      "True\n",
      "[1, 2, 3, 4, 5, 6, 7, 8, 9, 11, 22, 33, 44, 55, 66, 77, 88, 99, 101, 111, 121, 131, 141, 151, 161, 171, 181, 191]\n"
     ]
    }
   ],
   "source": [
    "# 用filter求素数，构建从2开始的所有自然数序列，第一步筛除2的倍数的数，然后筛除3开始的后面的所有3的倍数\n",
    "lll = [2,3,4,5,6,7,8,9,10,11,12,22,23,24,30,100,120]\n",
    "# 构建一个从3开始的奇数序列,下面构建的是全体的奇数序列\n",
    "def _odd_iter():\n",
    "    n = 1\n",
    "    while True:\n",
    "        n = n+2\n",
    "        yield n\n",
    "\n",
    "# 构建一个从2开始的所有自然数序列\n",
    "def _number():\n",
    "    m = 1\n",
    "    while True:\n",
    "        m = m+1\n",
    "        yield m\n",
    "nn = _number()\n",
    "# 遍历2到10以内的所有数\n",
    "# for i in nn:\n",
    "#     if i < 10:\n",
    "#         print(i)\n",
    "#     else:\n",
    "#         break\n",
    "        \n",
    "a = _odd_iter()\n",
    "# print(a)\n",
    "# print(next(a))\n",
    "# 打印generator，所有yield返回的都是一个生成器\n",
    "print(type(a))\n",
    "# 定义一个筛选函数，此函数是一个高阶函数，返回的结果是一个函数，该结果函数会将传递进的n作为除数，跟被除数求余，如果余数大于0就返回True\n",
    "def _not_divisible(n):\n",
    "    return lambda x: x % n >0\n",
    "print(_not_divisible(3)(6))\n",
    "# 定义一个生成器\n",
    "def primes():\n",
    "    yield 2\n",
    "    it = _odd_iter() # 初始化序列\n",
    "    while True:\n",
    "        n = next(it) # 迭代初始化序列生成器，返回第一个数\n",
    "        # 第一个数是3 ，是一个素数\n",
    "        yield n\n",
    "        # 根据it构造新的序列\n",
    "        it = filter(_not_divisible(n),it)\n",
    "\n",
    "# 遍历100以内所有奇数素数\n",
    "# for i in primes():\n",
    "#     if i <= 100:\n",
    "#         print(i)\n",
    "#     else:\n",
    "#         break\n",
    "\n",
    "# 利用filter筛选出回数，回数是指从右向左和从左向右读都是一样的数，比如121,12321,909等，是对称的\n",
    "def is_palindrome(n):\n",
    "    l = len(str(n))\n",
    "    if l ==1:\n",
    "        return True\n",
    "    elif l == 2 and n % 11 ==0:\n",
    "        return True\n",
    "    else:\n",
    "        s = str(n)\n",
    "        head = s[0]\n",
    "        tail = s[-1]\n",
    "        return int(head) == int(tail) and is_palindrome(int(s[1:-1]))\n",
    "# mm = 123454321\n",
    "# s= str(mm)\n",
    "# print(s)\n",
    "# print(s[0])\n",
    "# print(s[-1])\n",
    "# print(s[1:-1])\n",
    "print(is_palindrome(mm))\n",
    "output = filter(is_palindrome,range(1,200))\n",
    "print(list(output))\n",
    "\n",
    "\n"
   ]
  },
  {
   "cell_type": "code",
   "execution_count": 1,
   "metadata": {},
   "outputs": [
    {
     "name": "stdout",
     "output_type": "stream",
     "text": [
      "[-343.23, 3, 34, 234, 324, 343]\n",
      "[3, 34, 234, 324, 343, -343.23]\n",
      "['bob', 'about', 'Zoo', 'Credit']\n",
      "['Credit', 'Zoo', 'about', 'bob']\n",
      "['about', 'bob', 'Credit', 'Zoo']\n",
      "['Zoo', 'Credit', 'bob', 'about']\n",
      "[('Adam', 92), ('Bart', 66), ('Bob', 75), ('Lisa', 88)]\n",
      "[('Adam', 92), ('Lisa', 88), ('Bob', 75), ('Bart', 66)]\n"
     ]
    }
   ],
   "source": [
    "# 排序算法\n",
    "aa = [234,343,3,34,324,-343.23]\n",
    "print(sorted(aa))\n",
    "# 使用key函数来排序\n",
    "print(sorted(aa,key=abs))\n",
    "bb= ['bob','about','Zoo','Credit']\n",
    "print(bb)\n",
    "print(sorted(bb))\n",
    "#忽略字母大小写\n",
    "print(sorted(bb,key=str.lower))\n",
    "# 使用反向排序，就是原来是升序改为降序\n",
    "print(sorted(bb,key=str.lower,reverse=True))\n",
    "# 对下面的l按照人名区分不区分大小写排序\n",
    "L = [('Bob',75),('Adam',92),('Bart',66),('Lisa',88)]\n",
    "def by_name(t):\n",
    "    return str(t[0])\n",
    "def by_score(t):\n",
    "    return t[1]\n",
    "LL = sorted(L,key=by_name)\n",
    "print(LL)\n",
    "print(sorted(L,key=by_score,reverse=True))\n",
    "\n",
    "\n",
    "\n"
   ]
  },
  {
   "cell_type": "code",
   "execution_count": 19,
   "metadata": {},
   "outputs": [
    {
     "name": "stdout",
     "output_type": "stream",
     "text": [
      "<class 'function'>\n",
      "15\n",
      "<function count.<locals>.f at 0x7ff138ad5830>\n",
      "[<function count.<locals>.f at 0x7ff138b4f8c0>, <function count.<locals>.f at 0x7ff138b4f290>, <function count.<locals>.f at 0x7ff138b4fb00>]\n",
      "<function count.<locals>.f at 0x7ff138b4f8c0>\n",
      "9\n",
      "<function count.<locals>.f at 0x7ff138d17830>\n",
      "9\n",
      "<function count.<locals>.f at 0x7ff138d17e60>\n",
      "9\n",
      "9\n",
      "1\n",
      "4\n",
      "9\n",
      "1\n",
      "4\n",
      "9\n",
      "1\n"
     ]
    }
   ],
   "source": [
    "# 返回函数，函数作为结果值返回\n",
    "def lazy_sum(*args):\n",
    "    def sum():\n",
    "        total= 0\n",
    "        for a in args:\n",
    "            total = total + a\n",
    "        return total\n",
    "    return sum\n",
    "\n",
    "# f返回sum()这个函数，sum函数传递一个空参，lazy_sum中传递的参数都保存在返回的函数中，sum函数是一个闭包\n",
    "f= lazy_sum(1,2,3,4,5)\n",
    "print(type(f))\n",
    "\n",
    "print(f())\n",
    "# 闭包 此处count函数中在for循环下又定义了一个函数，有引用i这个变量，但是并没有立即执行，最后i在遍历完后就是3，所以f1，f2，f3调用的结果都是9\n",
    "# 因为在执行的时候i都是3\n",
    "# 返回闭包时牢记一点：返回函数不要引用任何循环变量，或者后续会发生变化的变量。\n",
    "def count():\n",
    "    fs = []\n",
    "    for i in range(1,4):\n",
    "        def f():\n",
    "            return i * i\n",
    "        fs.append(f)\n",
    "    return fs\n",
    "f1,f2,f3 = count()\n",
    "print(f1)\n",
    "print(count())\n",
    "print(count()[0])\n",
    "print(count()[0]())\n",
    "print(count()[1])\n",
    "print(count()[1]())\n",
    "print(count()[2])\n",
    "print(count()[2]())\n",
    "print(f1())\n",
    "\n",
    "# 如果真的要引用循环变量，需要再创建一个函数，用该函数的参数绑定循环变量的当前值\n",
    "def count2():\n",
    "    def f(j):\n",
    "        def g():\n",
    "            return j * j\n",
    "        return g\n",
    "    fs = []\n",
    "    for i in range(1,4):\n",
    "        fs.append(f(i))\n",
    "    return fs\n",
    "print(count2()[0]())\n",
    "print(count2()[1]())\n",
    "print(count2()[2]())\n",
    "# count2()返回的是一个函数的列表，分别将3个函数赋值给f1，f2，f3，此处有点类似scala中的模式匹配\n",
    "f1,f2,f3=count2()\n",
    "print(f1())\n",
    "print(f2())\n",
    "print(f3())\n",
    "# 返回一个函数时，该函数并未执行，返回函数中不要引用任何可能会变化的变量。\n",
    "\n",
    "# 利用闭包返回一个计数器函数，每次调用它返回递增整数\n",
    "def createCounter():\n",
    "    def counter():\n",
    "        return 1\n",
    "    return counter\n",
    "aa=createCounter()\n",
    "\n",
    "\n",
    "\n",
    "\n",
    "\n"
   ]
  },
  {
   "cell_type": "code",
   "execution_count": 22,
   "metadata": {},
   "outputs": [
    {
     "name": "stdout",
     "output_type": "stream",
     "text": [
      "9\n",
      "9\n",
      "True\n",
      "True\n"
     ]
    }
   ],
   "source": [
    "# 匿名函数\n",
    "def f(x):\n",
    "    return x * x\n",
    "print(f(3))\n",
    "# 使用匿名函数改造上面的函数\n",
    "f = lambda x : x * x\n",
    "print(f(3))\n",
    "\n",
    "# 判断一个数是否为奇数\n",
    "def is_odd(n):\n",
    "    return n % 2 == 1\n",
    "\n",
    "print(is_odd(3))\n",
    "o= lambda x: x % 2 ==1\n",
    "print(o(3))\n",
    "\n"
   ]
  },
  {
   "cell_type": "code",
   "execution_count": 7,
   "metadata": {},
   "outputs": [
    {
     "name": "stdout",
     "output_type": "stream",
     "text": [
      "hello\n",
      "None\n",
      "hello\n",
      "None\n",
      "<class 'function'>\n",
      "None\n",
      "printtime\n",
      "<method-wrapper '__str__' of function object at 0x7faa31e0dc20>\n"
     ]
    }
   ],
   "source": [
    "# 装饰器 函数也是一个对象，而且函数对象可以被赋值给变量，所以，通过变量也能调用该函数\n",
    "def printtime():\n",
    "    print('hello')\n",
    "# 下面的f是调用函数后的返回值    \n",
    "f = printtime()\n",
    "# 下面的a是一个函数\n",
    "a = printtime\n",
    "print(f)\n",
    "print(a())\n",
    "print(type(a))\n",
    "# __closure获取函数的闭包\n",
    "print(a.__closure__)\n",
    "# __name__属性是获取函数的名称\n",
    "print(a.__name__)\n",
    "print(a.__str__)"
   ]
  },
  {
   "cell_type": "code",
   "execution_count": 21,
   "metadata": {},
   "outputs": [
    {
     "name": "stdout",
     "output_type": "stream",
     "text": [
      "logs:call printtime()\n",
      "hello\n",
      "logs2:call printtime2()\n",
      "hello\n",
      "<function log.<locals>.wrapper at 0x7faa3181d200>\n",
      "logs:call wrapper()\n",
      "logs:call printtime()\n",
      "hello\n"
     ]
    }
   ],
   "source": [
    "# 在代码运行期间动态增加功能 装饰器本质是一个返回函数的高阶函数\n",
    "# 下面定一个在函数调用之前打印日志的函数，该函数接收一个函数作为参数，返回一个函数\n",
    "# log函数使用wrapper对传入的func函数进行了包装\n",
    "def log(func):\n",
    "    def wrapper(*args,**kw):\n",
    "        print('logs:call %s()' % func.__name__)\n",
    "        return func(*args,**kw)\n",
    "    return wrapper\n",
    "\n",
    "# log2函数对传入的func函数没有做任何的改变，只是在调用之前添加了一些逻辑，然后将函数返回\n",
    "def log2(func):\n",
    "    print('logs2:call %s()' % func.__name__)\n",
    "    return func\n",
    "@log\n",
    "def printtime():\n",
    "    print('hello')\n",
    "printtime()\n",
    "\n",
    "@log2\n",
    "def printtime2():\n",
    "    print('hello')\n",
    "printtime2()\n",
    "# 上面的log和log2都可以当作装饰函数,接收一个参数函数后没有对函数做任何的改变，仅仅是添加了一些任务，再把传递的函数原样返回，这相当于java中的装饰者模式，或者包装者模式\n",
    "log=log(printtime)\n",
    "print(log)\n",
    "log()   \n",
    "\n",
    "\n"
   ]
  },
  {
   "cell_type": "code",
   "execution_count": 29,
   "metadata": {},
   "outputs": [
    {
     "name": "stdout",
     "output_type": "stream",
     "text": [
      "execute printtime3()\n",
      "hello3\n"
     ]
    }
   ],
   "source": [
    "# 装饰器函数传入参数\n",
    "# 引入functools模块\n",
    "import functools\n",
    "\n",
    "def log3(text):\n",
    "    def decorator(func):\n",
    "        @functools.wraps(func)\n",
    "        def wrapper(*args,**kw):\n",
    "            print('%s %s()' % (text,func.__name__))\n",
    "            return func(*args,**kw)\n",
    "        return wrapper\n",
    "    return decorator\n",
    "\n",
    "@log3('execute')\n",
    "def printtime3():\n",
    "    print('hello3')\n",
    "printtime3()\n",
    " "
   ]
  },
  {
   "cell_type": "code",
   "execution_count": 32,
   "metadata": {},
   "outputs": [],
   "source": [
    "# 请编写一个decorator，能在函数调用的前后打印出'begin call'和'end call'的日志\n",
    "# 该函数既支持\n",
    "# @log\n",
    "# def f():\n",
    "#     pass\n",
    "# # 又支持\n",
    "# @log('execute')\n",
    "# def f():\n",
    "#     pass\n"
   ]
  },
  {
   "cell_type": "code",
   "execution_count": 45,
   "metadata": {},
   "outputs": [
    {
     "name": "stdout",
     "output_type": "stream",
     "text": [
      "将'124'按8进制转换，结果为：84\n",
      "将'124'按10进制转换，结果为：124\n",
      "将'124'按16进制转换，结果为：292\n",
      "将'124'按6进制转换，结果为：52\n",
      "将'124'按5进制转换，结果为：39\n",
      "将'101'按2进制转换，结果为：5\n",
      "将'101'按16进制转换，结果为：257\n",
      "将'101'按10进制转换，结果为：101\n",
      "5\n"
     ]
    }
   ],
   "source": [
    "# 偏函数，此处的偏函数跟数学中的偏函数不一样，跟scala中的偏函数也不一样  int()函数将字符串转成整数，可以传入一个base参数，表示按多少进制转换\n",
    "print('''将'124'按8进制转换，结果为：%d''' % int('124',base=8))\n",
    "print('''将'124'按10进制转换，结果为：%d''' % int('124',base=10))\n",
    "print('''将'124'按16进制转换，结果为：%d''' % int('124',base=16))\n",
    "print('''将'124'按6进制转换，结果为：%d''' % int('124',base=6))\n",
    "print('''将'124'按5进制转换，结果为：%d''' % int('124',base=5))\n",
    "print('''将'101'按2进制转换，结果为：%d''' % int('101',base=2))\n",
    "print('''将'101'按16进制转换，结果为：%d''' % int('101',base=16))\n",
    "print('''将'101'按10进制转换，结果为：%d''' % int('101',base=10))\n",
    "# 使用functools中的partial定义偏函数 partial的作用就是将可传参数按指定的值设定，而不需要再定义一个函数\n",
    "import functools\n",
    "int2=functools.partial(int,base=2)\n",
    "print(int2('101'))"
   ]
  }
 ],
 "metadata": {
  "kernelspec": {
   "display_name": "Python 3",
   "language": "python",
   "name": "python3"
  },
  "language_info": {
   "codemirror_mode": {
    "name": "ipython",
    "version": 3
   },
   "file_extension": ".py",
   "mimetype": "text/x-python",
   "name": "python",
   "nbconvert_exporter": "python",
   "pygments_lexer": "ipython3",
   "version": "3.7.6"
  }
 },
 "nbformat": 4,
 "nbformat_minor": 4
}

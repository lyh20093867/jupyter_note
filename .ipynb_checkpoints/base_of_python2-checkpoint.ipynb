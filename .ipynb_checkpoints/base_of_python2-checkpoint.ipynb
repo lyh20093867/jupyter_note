{
 "cells": [
  {
   "cell_type": "code",
   "execution_count": 3,
   "metadata": {},
   "outputs": [
    {
     "name": "stdout",
     "output_type": "stream",
     "text": [
      "abs指向求绝对值的函数，结果： 123\n",
      "5\n"
     ]
    }
   ],
   "source": [
    "\n",
    "# 函数是Python内建支持的一种封装，我们通过把大段代码拆成函数，通过一层一层的函数调用，就可以把复杂任务分解成简单的任务，这种分解可以称之为面向过程的程序设计。函数就是面向过程的程序设计的基本单元。\n",
    "# 而函数式编程（请注意多了一个“式”字）——Functional Programming，虽然也可以归结到面向过程的程序设计，但其思想更接近数学计算。\n",
    "# 在计算机的层次上，CPU执行的是加减乘除的指令代码，以及各种条件判断和跳转指令，所以，汇编语言是最贴近计算机的语言。\n",
    "# 而计算则指数学意义上的计算，越是抽象的计算，离计算机硬件越远。\n",
    "# 对应到编程语言，就是越低级的语言，越贴近计算机，抽象程度低，执行效率高，比如C语言；越高级的语言，越贴近计算，抽象程度高，执行效率低，比如Lisp语言。\n",
    "# 函数式编程就是一种抽象程度很高的编程范式，纯粹的函数式编程语言编写的函数没有变量，因此，任意一个函数，只要输入是确定的，输出就是确定的，这种纯函数我们称之为没有副作用。而允许使用变量的程序设计语言，由于函数内部的变量状态不确定，同样的输入，可能得到不同的输出，因此，这种函数是有副作用的。\n",
    "# 函数式编程的一个特点就是，允许把函数本身作为参数传入另一个函数，还允许返回一个函数！\n",
    "# Python对函数式编程提供部分支持。由于Python允许使用变量，因此，Python不是纯函数式编程语言。\n",
    "\n",
    "# 高阶函数，函数本身也是可以赋值给变量的，即变量指向函数\n",
    "# 函数名也是变量，指向函数这个对象的，如果将函数名修改为指向了其他的对象，就会出错\n",
    "import builtins\n",
    "# 例如：\n",
    "print('abs指向求绝对值的函数，结果：',builtins.abs(-123))\n",
    "# 修改abs指向新的对象\n",
    "# abs = 10\n",
    "# print(abs(-23))# 此处会报TypeError: 'int' object is not callable，因为abs这会不再指向执行绝对值这个函数了\n",
    "\n",
    "# 注：由于abs函数实际上是定义在import builtins模块中的，所以要让修改abs变量的指向在其它模块也生效，要用import builtins; builtins.abs = 10\n",
    "\n",
    "# 传入函数,将函数作为一个参数，传递给另外一个函数，这种参数也是一个函数的函数就是高阶函数\n",
    "def add(x,y,f):\n",
    "    return f(x)+ f(y)\n",
    "print(add(2,-3,builtins.abs))"
   ]
  },
  {
   "cell_type": "code",
   "execution_count": 4,
   "metadata": {},
   "outputs": [
    {
     "name": "stdout",
     "output_type": "stream",
     "text": [
      "True\n",
      "True\n",
      "[144, 9, 16, 25, 4, 36, 9]\n",
      "['12', '3', '4', '5', '2', '6', '3']\n"
     ]
    },
    {
     "name": "stderr",
     "output_type": "stream",
     "text": [
      "/Users/yihong.li/opt/anaconda3/lib/python3.7/site-packages/ipykernel_launcher.py:2: DeprecationWarning: Using or importing the ABCs from 'collections' instead of from 'collections.abc' is deprecated since Python 3.3,and in 3.9 it will stop working\n",
      "  \n"
     ]
    }
   ],
   "source": [
    "# map函数，map()函数接收两个参数，一个是函数，一个是Iterable，map将传入的函数依次作用到序列的每个元素，并把结果作为新的Iterator返回\n",
    "from collections import Iterable,Iterator\n",
    "def f(x):\n",
    "    return x * x\n",
    "l=[12,3,4,5,2,6,3]\n",
    "m=map(f,l)\n",
    "print(isinstance(m,Iterable))\n",
    "print(isinstance(m,Iterator))\n",
    "# list会迭代m这个迭代器，迭代器只能被迭代一遍\n",
    "print(list(m))\n",
    "# print(len(m) \n",
    "for n in m:\n",
    "    print(n)\n",
    "\n",
    "ll=[12,3,4,5,2,6,3] \n",
    "# 将ll中的所有元素转换成字符串\n",
    "lm = list(map(str,ll))\n",
    "print(lm)"
   ]
  },
  {
   "cell_type": "code",
   "execution_count": 12,
   "metadata": {},
   "outputs": [
    {
     "name": "stdout",
     "output_type": "stream",
     "text": [
      "3 * 5 * 7 * 9 = 945\n",
      "测试成功!\n",
      "对列表中所有元素求和，使用reduce进行累计计算： 35\n",
      "reduce函数对列表中的所有元素求乘积: 25920\n",
      "12345263\n",
      "True\n",
      "<class 'int'>\n",
      "123\n",
      "ABC\n"
     ]
    }
   ],
   "source": [
    "# reduce函数 reduce的第一个参数是函数，第二个参数是一个序列\n",
    "from functools import reduce\n",
    "# 对一个list作求和运算\n",
    "def myadd(x,y):\n",
    "    return x +y\n",
    "def mymultiply(x,y):\n",
    "    return x * y\n",
    "def prod(ll):\n",
    "    return reduce(mymultiply,ll)\n",
    "\n",
    "print('3 * 5 * 7 * 9 =', prod([3, 5, 7, 9]))\n",
    "if prod([3, 5, 7, 9]) == 945:\n",
    "    print('测试成功!')\n",
    "else:\n",
    "    print('测试失败!')\n",
    "    \n",
    "lll = reduce(myadd,ll)\n",
    "\n",
    "print('对列表中所有元素求和，使用reduce进行累计计算：',lll)\n",
    "llm = reduce(mymultiply,ll)\n",
    "\n",
    "print('reduce函数对列表中的所有元素求乘积:',llm)\n",
    "def myconcat(x,y):\n",
    "    return str(x)+str(y)\n",
    "lln = reduce(myconcat,ll)\n",
    "print(lln)\n",
    "\n",
    "# 自己实现一个将字符串转成int的函数\n",
    "\n",
    "DIGITS = {'0':0,'1':1,'2':2,'3':3,'4':4,'5':5,'6':6,'7':7,'8':8,'9':9}\n",
    "def myint(x):\n",
    "    if isinstance(x,int):\n",
    "        return x\n",
    "    def char2int(x):\n",
    "        return DIGITS[x]\n",
    "    return reduce(lambda x,y:x*10+y,map(char2int,x))\n",
    "a=myint('123')\n",
    "print(isinstance(a,int))\n",
    "print(type(a))\n",
    "print(a)\n",
    "print('abc'.upper())"
   ]
  },
  {
   "cell_type": "code",
   "execution_count": 29,
   "metadata": {},
   "outputs": [
    {
     "name": "stdout",
     "output_type": "stream",
     "text": [
      "['Adam', 'Lisa', 'Bart']\n",
      "6\n",
      "1323.22\n"
     ]
    }
   ],
   "source": [
    "# 将不规则的英文名字变为首字母大写，其他小写的规范名字；输入：['adam', 'LISA', 'barT']，输出：['Adam', 'Lisa', 'Bart']：\n",
    "# 输入一个list\n",
    "from functools import reduce\n",
    "import math\n",
    "def myF(x):\n",
    "    # 第一步获取首字母\n",
    "    f=str(x[0]).upper()\n",
    "    en = str(x[1:]).lower()\n",
    "    # 第二步将首字母转大写，其他的转小写\n",
    "    return f + en\n",
    "def mylist(f):\n",
    "    return list(map(myF,f))\n",
    "li = ['adam', 'LISA', 'barT']\n",
    "print(mylist(li))\n",
    "\n",
    "DIGITS = {'0':0,'1':1,'2':2,'3':3,'4':4,'5':5,'6':6,'7':7,'8':8,'9':9}\n",
    "def char2Int(x):\n",
    "    return DIGITS[x]\n",
    "\n",
    "v = reduce(lambda x,y:x*+y,map(char2Int,'123'))\n",
    "print(v)\n",
    "# 利用map和reduce编写一个str2float函数，把字符串'123.456'转换成浮点数123.456\n",
    "def str2float(s):\n",
    "    \n",
    "    i = str(s).find('.')\n",
    "    b = math.pow(10,len(s)-i-1)\n",
    "    if i == -1:\n",
    "        return myint(s)\n",
    "    else:\n",
    "        m = i +1\n",
    "        a = s[0:i]\n",
    "        c = s[m:]\n",
    "        return myint(a)+myint(c)/b\n",
    "print(str2float('1323.22'))\n"
   ]
  },
  {
   "cell_type": "code",
   "execution_count": 22,
   "metadata": {},
   "outputs": [
    {
     "name": "stdout",
     "output_type": "stream",
     "text": [
      "100.0\n"
     ]
    }
   ],
   "source": [
    "import math\n",
    "a='abc'.find('m')\n",
    "b = math.pow(10,len('123')-1)\n",
    "print(b)\n"
   ]
  }
 ],
 "metadata": {
  "kernelspec": {
   "display_name": "Python 3",
   "language": "python",
   "name": "python3"
  },
  "language_info": {
   "codemirror_mode": {
    "name": "ipython",
    "version": 3
   },
   "file_extension": ".py",
   "mimetype": "text/x-python",
   "name": "python",
   "nbconvert_exporter": "python",
   "pygments_lexer": "ipython3",
   "version": "3.7.6"
  }
 },
 "nbformat": 4,
 "nbformat_minor": 4
}

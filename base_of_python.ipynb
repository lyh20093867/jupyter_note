{
 "cells": [
  {
   "cell_type": "code",
   "execution_count": 9,
   "metadata": {},
   "outputs": [
    {
     "name": "stdout",
     "output_type": "stream",
     "text": [
      "hello world!\n",
      "1530\n",
      "1024\n",
      "lisi\n",
      "name: lisi\n"
     ]
    }
   ],
   "source": [
    "# 调用print方法输出hello world\n",
    "print(\"hello world!\")\n",
    "# 直接进行计算\n",
    "print(100+1230+200)\n",
    "# 进行幂运算\n",
    "print(2**10)\n",
    "# print()函数会将传递的参数标准输出\n",
    "# 也可以使用input()函数等待用户输入内容，下面将输入的内容赋值给一个变量name\n",
    "name = input()\n",
    "# 同时，print()函数可以接受多个参数，参数之间使用,进行隔开\n",
    "print(\"name:\",name)"
   ]
  },
  {
   "cell_type": "code",
   "execution_count": 13,
   "metadata": {},
   "outputs": [
    {
     "name": "stdout",
     "output_type": "stream",
     "text": [
      "23\n"
     ]
    }
   ],
   "source": [
    "# 打印一个数的绝对值\n",
    "# a=input()\n",
    "# a=-25\n",
    "a=23\n",
    "if a >= 0:\n",
    "    print(a)\n",
    "else:\n",
    "    print(-a)"
   ]
  },
  {
   "cell_type": "code",
   "execution_count": 22,
   "metadata": {},
   "outputs": [
    {
     "name": "stdout",
     "output_type": "stream",
     "text": [
      "1\n",
      "65280\n",
      "1230000000.0\n",
      "3.2\n",
      "I'm 'OK'.\n",
      "I'm \"OK\".\n",
      "\\t,\\r\\n,\\,\\\\\n",
      "zhangsan\n",
      "shuo\n",
      "sm\n",
      "\n",
      "dfkjs\n",
      "\t\n",
      "\\\n",
      "fdsfj\n",
      "... 第武行 ...\n",
      "... 结束\n",
      "\n",
      "zhangsan\n",
      "shuo\n",
      "sm\n",
      "\n",
      "dfkjs\n",
      "\\t\n",
      "\\\\\n",
      "fdsfj\n",
      "... 第武行 ...\n",
      "... 结束\n",
      "\n"
     ]
    }
   ],
   "source": [
    "# 需要注意的是python中是大小写敏感的，并且必须要每次是4个空格缩进\n",
    "# 数据类型和变量，在python中分为整数、浮点数、字符串、空值、变量、常量、\n",
    "print(1)\n",
    "# 0x表示16进制的数\n",
    "print(0xff00)\n",
    "# 浮点数\n",
    "print(1.23e9)\n",
    "print(3.2)\n",
    "# 字符串\n",
    "print(\"I\\'m \\'OK\\'.\")\n",
    "print('I\\'m \\\"OK\\\".')\n",
    "# r''表示''内部的字符串默认不转义，跟scala中的\"\"\"\"\"\"类似\n",
    "print(r'\\t,\\r\\n,\\,\\\\')"
   ]
  },
  {
   "cell_type": "code",
   "execution_count": null,
   "metadata": {},
   "outputs": [],
   "source": [
    "# \"\"\"\"\"\"可以分为多行书写,并且可以在前面添加r，让\"\"\"\"\"\"中的数据不发生转义，另外\"\"\"\"\"\"也可以换成''''''\n",
    "print(\"\"\"zhangsan\n",
    "shuo\n",
    "sm\n",
    "\n",
    "dfkjs\n",
    "\\t\n",
    "\\\\\n",
    "fdsfj\n",
    "... 第武行 ...\n",
    "... 结束\n",
    "\"\"\")\n",
    "print(r\"\"\"zhangsan\n",
    "shuo\n",
    "sm\n",
    "\n",
    "dfkjs\n",
    "\\t\n",
    "\\\\\n",
    "fdsfj\n",
    "... 第武行 ...\n",
    "... 结束\n",
    "\"\"\")"
   ]
  },
  {
   "cell_type": "code",
   "execution_count": 26,
   "metadata": {},
   "outputs": [
    {
     "name": "stdout",
     "output_type": "stream",
     "text": [
      "True\n",
      "False\n",
      "True\n",
      "False\n",
      "or运算: True\n",
      "not运算: True\n",
      "未成年人...\n"
     ]
    }
   ],
   "source": [
    "# 布尔值，只有为True和False,此处的大小写不能chucuo \n",
    "print(True)\n",
    "print(False)\n",
    "print(3>2)\n",
    "print(4<2)\n",
    "\n",
    "print(\"or运算:\",4 < 3 or 5>3)\n",
    "print(\"not运算:\",not 4<3)\n",
    "\n",
    "age=17\n",
    "if age>18:\n",
    "    print(\"成年人...\")\n",
    "else:\n",
    "    print(\"未成年人...\")"
   ]
  },
  {
   "cell_type": "code",
   "execution_count": 31,
   "metadata": {},
   "outputs": [
    {
     "name": "stdout",
     "output_type": "stream",
     "text": [
      "ABC\n",
      "ABC\n"
     ]
    }
   ],
   "source": [
    "# 空值 None，跟scala中的Unit或者null有什么区别?\n",
    "# 变量本身类型不固定，为弱类型语言，也称为动态语言，而java为强类型语言\n",
    "# a='ABC'  1、在内存中创建了一个'ABC'的字符串;2、在内存中创建了一个a的变量，指向了'ABC'\n",
    "a= 'ABC'\n",
    "print(a)\n",
    "b=a # 此处是指将b这个变量指向a这个变量指向的'ABC'，b最终是指向的'ABC'而不是a这个变量\n",
    "a='XYZ'\n",
    "print(b)#需要注意的是，此处打印的是'ABC'而不是'XYZ'"
   ]
  },
  {
   "cell_type": "code",
   "execution_count": 37,
   "metadata": {},
   "outputs": [
    {
     "name": "stdout",
     "output_type": "stream",
     "text": [
      "3.3333333333333335\n",
      "5.0\n",
      "-----------------\n",
      "3\n",
      "5\n",
      "1\n",
      "2\n",
      "-----------------\n",
      "1\n",
      "12.231122222222222\n",
      "2.3444444444444444e+44\n"
     ]
    }
   ],
   "source": [
    "# python中有两种除法:/和//,//永远为整数,并且只会舍弃，不会入\n",
    "print(10/3)\n",
    "print(10/2)\n",
    "print(\"-----------------\")\n",
    "print(10//3)\n",
    "print(10//2)\n",
    "print(10//6)\n",
    "print(13//5)\n",
    "print(\"-----------------\")\n",
    "print(10%3)\n",
    "# python中对整数没有大小限制，对浮点数也没有大小限制，但是超出一定范围的浮点数就表示为inf，意为无限大\n",
    "print(12.231122222222222222222222223)\n",
    "print(234444444444444444344444444444433333333333336.3)"
   ]
  },
  {
   "cell_type": "code",
   "execution_count": null,
   "metadata": {},
   "outputs": [],
   "source": []
  },
  {
   "cell_type": "code",
   "execution_count": null,
   "metadata": {},
   "outputs": [],
   "source": []
  },
  {
   "cell_type": "code",
   "execution_count": null,
   "metadata": {},
   "outputs": [],
   "source": []
  },
  {
   "cell_type": "code",
   "execution_count": null,
   "metadata": {},
   "outputs": [],
   "source": []
  },
  {
   "cell_type": "code",
   "execution_count": null,
   "metadata": {},
   "outputs": [],
   "source": []
  },
  {
   "cell_type": "code",
   "execution_count": null,
   "metadata": {},
   "outputs": [],
   "source": []
  },
  {
   "cell_type": "code",
   "execution_count": null,
   "metadata": {},
   "outputs": [],
   "source": []
  },
  {
   "cell_type": "code",
   "execution_count": null,
   "metadata": {},
   "outputs": [],
   "source": []
  },
  {
   "cell_type": "code",
   "execution_count": null,
   "metadata": {},
   "outputs": [],
   "source": []
  },
  {
   "cell_type": "code",
   "execution_count": null,
   "metadata": {},
   "outputs": [],
   "source": []
  },
  {
   "cell_type": "code",
   "execution_count": null,
   "metadata": {},
   "outputs": [],
   "source": []
  },
  {
   "cell_type": "code",
   "execution_count": null,
   "metadata": {},
   "outputs": [],
   "source": []
  },
  {
   "cell_type": "code",
   "execution_count": null,
   "metadata": {},
   "outputs": [],
   "source": []
  },
  {
   "cell_type": "code",
   "execution_count": null,
   "metadata": {},
   "outputs": [],
   "source": []
  },
  {
   "cell_type": "code",
   "execution_count": null,
   "metadata": {},
   "outputs": [],
   "source": []
  },
  {
   "cell_type": "code",
   "execution_count": null,
   "metadata": {},
   "outputs": [],
   "source": []
  },
  {
   "cell_type": "code",
   "execution_count": null,
   "metadata": {},
   "outputs": [],
   "source": []
  },
  {
   "cell_type": "code",
   "execution_count": null,
   "metadata": {},
   "outputs": [],
   "source": [
    "\n"
   ]
  },
  {
   "cell_type": "code",
   "execution_count": 8,
   "metadata": {},
   "outputs": [
    {
     "name": "stdout",
     "output_type": "stream",
     "text": [
      "lisi\n"
     ]
    }
   ],
   "source": [
    "print(name)"
   ]
  },
  {
   "cell_type": "code",
   "execution_count": null,
   "metadata": {},
   "outputs": [],
   "source": []
  },
  {
   "cell_type": "code",
   "execution_count": null,
   "metadata": {},
   "outputs": [],
   "source": []
  },
  {
   "cell_type": "code",
   "execution_count": null,
   "metadata": {},
   "outputs": [],
   "source": []
  },
  {
   "cell_type": "code",
   "execution_count": null,
   "metadata": {},
   "outputs": [],
   "source": []
  },
  {
   "cell_type": "code",
   "execution_count": null,
   "metadata": {},
   "outputs": [],
   "source": []
  }
 ],
 "metadata": {
  "kernelspec": {
   "display_name": "Python 3",
   "language": "python",
   "name": "python3"
  },
  "language_info": {
   "codemirror_mode": {
    "name": "ipython",
    "version": 3
   },
   "file_extension": ".py",
   "mimetype": "text/x-python",
   "name": "python",
   "nbconvert_exporter": "python",
   "pygments_lexer": "ipython3",
   "version": "3.7.6"
  }
 },
 "nbformat": 4,
 "nbformat_minor": 4
}
